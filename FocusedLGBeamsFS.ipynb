{
 "cells": [
  {
   "cell_type": "markdown",
   "metadata": {},
   "source": [
    "## Lens-focused Laguerre-Gauss beam as per GLMT: <br></br>A Finite Series sketch"
   ]
  },
  {
   "cell_type": "code",
   "execution_count": 2,
   "metadata": {},
   "outputs": [],
   "source": [
    "# Imports\n",
    "import numpy as np               # Ye olde numpy\n",
    "import scipy.special as sp       # Special functions\n",
    "import matplotlib.pyplot as plt  # Plots results\n",
    "import mpmath                    # Arbitrary precision\n",
    "import scipy.integrate as intg   # Numerical integration\n",
    "\n",
    "import inspect                   # Maybe remove later (decorator things)\n",
    "import time                      # For performance evalution"
   ]
  },
  {
   "cell_type": "code",
   "execution_count": 3,
   "metadata": {},
   "outputs": [],
   "source": [
    "mpmath.mp.dps = 50\n",
    "integrationdps = 200"
   ]
  },
  {
   "cell_type": "code",
   "execution_count": 4,
   "metadata": {},
   "outputs": [],
   "source": [
    "# LFLG beam parameters:\n",
    "p, l = 0, 2\n",
    "alpha, beta = 1, 0\n",
    "r_focus = 1E-3\n",
    "wavelength = 6328E-9\n",
    "na = .95\n",
    "w0 = 3.2 * wavelength\n",
    "\n",
    "k = 2 * np.pi / wavelength\n",
    "s = 1 / k / w0\n",
    "\n",
    "parameters = {\n",
    "    \"p\": p,\n",
    "    \"l\": l,\n",
    "    \"alpha\": alpha,\n",
    "    \"beta\": beta,\n",
    "    \"r_focus\": r_focus,\n",
    "    \"wavelength\": wavelength,\n",
    "    \"na\": na,\n",
    "    \"w0\": w0,\n",
    "    \"delta\": 1,\n",
    "}"
   ]
  },
  {
   "cell_type": "code",
   "execution_count": 5,
   "metadata": {},
   "outputs": [],
   "source": [
    "# Memoization decorator\n",
    "def memoized(func):\n",
    "    CACHE = {}\n",
    "    def memoized_func(*args, **kwargs):\n",
    "        kwvals = [val for _, val in kwargs.items()]\n",
    "        if (*args, *kwvals) not in CACHE:\n",
    "            value = func(*args, **kwargs)\n",
    "            CACHE[(*args, *kwvals)] = value\n",
    "            return value\n",
    "        return CACHE[(*args, *kwvals)]\n",
    "    return memoized_func"
   ]
  },
  {
   "cell_type": "code",
   "execution_count": 27,
   "metadata": {},
   "outputs": [],
   "source": [
    "class LGBeamFS:\n",
    "    def __init__(self, **kwargs):\n",
    "        self.__dict__.update(parameters)\n",
    "        self.__dict__.update(kwargs)\n",
    "        \n",
    "        self.k = 2 * np.pi / self.wavelength\n",
    "        self.s = 1 / self.k / self.w0\n",
    "        if 'delta' not in parameters and 'delta' not in kwargs:\n",
    "            self.delta = 1\n",
    "    \n",
    "    def a(self, eta):\n",
    "        return eta * self.r_focus * self.s * mpmath.sqrt(2)\n",
    "    \n",
    "    def lens_integrand(self, eta, n, p, kind='A'):\n",
    "        if kind == 'E':\n",
    "            return self.lens_integrand(eta, n + 1, p, kind='A')\n",
    "        \n",
    "        pm = 1 if kind == 'A' else -1\n",
    "        if p == 0:\n",
    "            lfactor = 1\n",
    "        elif p >= 1:\n",
    "            lfactor = mpmath.laguerre(p - 1, self.l, self.a(eta) ** 2) \\\n",
    "                    * self.a(eta) ** 2\n",
    "        else:\n",
    "            raise ValueError(\"Negative values of p are not acceptable.\")\n",
    "        \n",
    "        kz_factor = mpmath.power(self.k ** 2 - eta ** 2, 1/ 4)\n",
    "        if kind in ['A', 'B']:\n",
    "            kz_factor = 1 / kz_factor\n",
    "            power = n - 1\n",
    "        elif kind in ['C', 'D']:\n",
    "            kz_factor = kz_factor / self.k\n",
    "            power = n - 2\n",
    "        else: \n",
    "            raise ValueError(\"Only kinds A, B, C, D and E recognized.\") \n",
    "        \n",
    "        res = mpmath.power(eta, np.abs(l + 1)) \\\n",
    "            * kz_factor * lfactor * mpmath.exp(-self.a(eta) ** 2 / 2) \\\n",
    "            * (1 + pm * mpmath.sqrt(self.k ** 2 - eta ** 2) / self.k) \\\n",
    "            * mpmath.power(eta / k, power)\n",
    "        return res\n",
    "    \n",
    "    def F(self, j, u):\n",
    "        return (-1) ** ((j - u) / 2) \\\n",
    "             * mpmath.gammaprod([], [(j - u) / 2 + 1, (j + u) / 2 + 1])\n",
    "    # / mpmath.factorial((j - u) / 2) / mpmath.factorial((j + u) / 2)\n",
    "    \n",
    "    @memoized\n",
    "    def lens_integral(self, n, p, kind='A', intg_func=intg.quadrature):\n",
    "        FUNCS = (intg.quad, intg.quadrature, intg.romberg, mpmath.quad)\n",
    "        max_eta = self.k * self.na * self.delta\n",
    "        np_lint = np.frompyfunc(self.lens_integrand, 4, 1)\n",
    "        if intg_func not in FUNCS:\n",
    "            raise ValueError(\"intg_func\", intg_func, \"not supported.\")\n",
    "        if intg_func is intg.quadrature:\n",
    "            return intg_func(np_lint, 0, max_eta, args=(n, p, kind),\n",
    "                             rtol=1E-64, maxiter=200)[0]\n",
    "        elif intg_func is mpmath.quad:\n",
    "            def lint(eta):\n",
    "                return self.lens_integrand(eta, n, p, kind=kind)\n",
    "            return intg_func(lint, [0, max_eta])\n",
    "        elif intg_func is intg.romberg:\n",
    "            return intg_func(np_lint, 0, max_eta, args=(n, p, kind),\n",
    "                             rtol=1E-100)\n",
    "        elif intg_func is intg.quad:\n",
    "            return mpmath.mpc(intg.quad(np_lint, 0, max_eta, args=(n, p, kind),\n",
    "                             epsrel=1E-200, limit=400)[0])\n",
    "        else:\n",
    "            raise NotImplemented(intg_func, \"not supported\")\n",
    "        \n",
    "    @memoized\n",
    "    def maclaurin_nmevn(self, j, p, intg_func=intg.quad, m=0):\n",
    "        lpart, rpart = 1, 1\n",
    "        premul = 1j * np.sqrt(2 / np.pi) * (self.alpha + 1j * self.beta) \\\n",
    "               / mpmath.power(2, j)\n",
    "        if j <= l:\n",
    "            lpart = 0\n",
    "            if j <= l - 2:\n",
    "                rpart = 0\n",
    "\n",
    "        if rpart != 0:\n",
    "            rpart = self.F(j - 1, self.l - 2) \\\n",
    "                  * self.lens_integral(j, p, kind='B', intg_func=intg_func)\n",
    "            if lpart != 0:\n",
    "                lpart = self.F(j - 1, self.l) \\\n",
    "                      * self.lens_integral(j, 0, kind='A', intg_func=intg_func)\n",
    "        if p == 1:\n",
    "            if rpart != 0:\n",
    "                rpart = self.F(j - 1, self.l - 2) \\\n",
    "                      * ((l + 1) * self.lens_integral(j, 0, kind='B',\n",
    "                                                      intg_func=intg_func) \\\n",
    "                        - self.lens_integral(j, 1, kind='B'))\n",
    "                if lpart != 0:\n",
    "                    lpart = self.F(j - 1, self.l) \\\n",
    "                          * ((l + 1) * self.lens_integral(j, 0, kind='A', \n",
    "                                                          intg_func=intg_func) \\\n",
    "                            - self.lens_integral(j, 1, kind='A',\n",
    "                                                 intg_func=intg_func))\n",
    "        elif p != 0:\n",
    "            premul = premul / p\n",
    "            return ((2 * p - 1 + self.l) / p * self.maclaurin(j, p - 1,\n",
    "                                                              intg_func=intg_func) \\\n",
    "                    - (p - 1 + self.l) / p * self.maclaurin(j, p - 2,\n",
    "                                                           intg_func=intg_func) \\\n",
    "                    - premul * (lpart + rpart)\n",
    "                   )\n",
    "            \n",
    "        return premul * (lpart + rpart)\n",
    "    \n",
    "    def odd_base(self, j, p, intg_func=intg.quad, m=0):\n",
    "        if m == self.l - 1:\n",
    "            upper_lim = l + 1\n",
    "            lower_lim = l - 1\n",
    "            polarizing_factor = 1j * self.alpha - self.beta\n",
    "        lpart, rpart = 1, 1\n",
    "        premul = 1j * np.sqrt(2 / np.pi) * polarizing_factor \\\n",
    "               / mpmath.power(2, j - 1)\n",
    "        if j <= upper_lim:\n",
    "            lpart = 0\n",
    "            if j <= lower_lim:\n",
    "                rpart = 0\n",
    "\n",
    "        if rpart != 0:\n",
    "            rpart = self.F(j - 2, self.l - 2) \\\n",
    "                  * self.lens_integral(j, p, kind='D', intg_func=intg_func) \\\n",
    "                  + self.F(j - 1, self.l - 1) \\\n",
    "                  * self.lens_integral(j, p, kind='E', intg_func=intg_func)\n",
    "            if lpart != 0:\n",
    "                lpart = self.F(j - 2, self.l) \\\n",
    "                      * self.lens_integral(j, p, kind='C', intg_func=intg_func)\n",
    "        return premul * (lpart + rpart)\n",
    "        \n",
    "    @memoized\n",
    "    def maclaurin_nmodd(self, j, p, intg_func=intg.quad, m=0):\n",
    "        bas = self.odd_base(j, p, intg_func=intg_func, m=m) \n",
    "        if p == 1:\n",
    "            bas = (self.l + 1) * self.odd_base(j, 0) - bas\n",
    "        elif p != 0:\n",
    "            return ((2 * p - 1 + self.l) / p \\\n",
    "                    * self.maclaurin(j, p - 1, intg_func=intg_func)\n",
    "                    - (p - 1 + self.l) / p \\\n",
    "                    * self.maclaurin(j, p - 2, intg_func=intg_func) \\\n",
    "                    - bas / p\n",
    "                   )\n",
    "        return bas\n",
    "    \n",
    "    def maclaurin(self, j, p, intg_func=intg.quad, m=0):\n",
    "        if (j - self.l) % 2 == 1:\n",
    "            return self.maclaurin_nmevn(j, p, intg_func=intg_func, m=m)\n",
    "        return self.maclaurin_nmodd(j, p, intg_func=intg_func, m=m)\n",
    "    \n",
    "    \n",
    "    def nconv_tmbsc_lm1_evn(self, n, intg_func=intg.quad):\n",
    "        premul = 1j ** n * (-1) ** ((n - self.l + 1) / 2) \\\n",
    "               * mpmath.power(2, n + 1.5 - self.l) * np.sqrt(np.pi) \\\n",
    "               / mpmath.gammaprod([(n - l + 3) / 2], [(n + l) / 2])\n",
    "    \n",
    "        fs = 0\n",
    "        q = 0\n",
    "        while q <= n / 2:\n",
    "            inc = mpmath.power(2, -2 * q) \\\n",
    "                * mpmath.gammaprod([.5 + n - q], [q + 1]) \\\n",
    "                * self.maclaurin(n - 2 * q, p, intg_func=intg_func, m=self.l - 1)\n",
    "            fs += inc\n",
    "            q += 1\n",
    "        return premul * fs\n",
    "    \n",
    "    def nconv_tmbsc_lm1_odd(self, n, intg_func=intg.quad):\n",
    "        premul = 1j ** n * (-1) ** ((n + self.l) / 2 - 1) \\\n",
    "               * mpmath.power(2, n - .5 - self.l) * np.sqrt(np.pi) \\\n",
    "               / mpmath.gammaprod([(n - l) / 2], [(n + l + 1) / 2])\n",
    "    \n",
    "        fs = 0\n",
    "        q = 0\n",
    "        while q <= n / 2:\n",
    "            inc = mpmath.power(2, -2 * q) \\\n",
    "                * mpmath.gammaprod([.5 + n - q], [q + 1]) \\\n",
    "                * self.maclaurin(n - 2 * q, p, intg_func=intg_func, m=self.l - 1)\n",
    "            fs += inc\n",
    "            q += 1\n",
    "        return premul * fs\n",
    "    \n",
    "    def nconv_tmbsc_lm1(self, n, intg_func=intg.quad):\n",
    "        if (n - self.l) % 2:\n",
    "            return self.nconv_tmbsc_lm1_evn(n, intg_func=intg_func)\n",
    "        return self.nconv_tmbsc_lm1_odd(n, intg_func=intg_func)\n",
    "    \n",
    "    def tmbsc_lm1(self, n, intg_func=intg.quad):\n",
    "        with mpmath.workdps(integrationdps):\n",
    "            return (-1) ** (n + 1) \\\n",
    "                 * mpmath.conj(self.nconv_tmbsc_lm1(n, intg_func=intg_func))"
   ]
  },
  {
   "cell_type": "markdown",
   "metadata": {},
   "source": [
    "## Testing"
   ]
  },
  {
   "cell_type": "markdown",
   "metadata": {},
   "source": [
    "#### Analyzing performance on different methods for integration"
   ]
  },
  {
   "cell_type": "code",
   "execution_count": 28,
   "metadata": {},
   "outputs": [],
   "source": [
    "# Decorator for timing functions\n",
    "def timed(func):\n",
    "    def timed_func(*args, **kwargs):\n",
    "        print(\"> Evaluating\", func.__name__, \"...\")\n",
    "        start = time.time()\n",
    "        val = func(*args, **kwargs)\n",
    "        finish = time.time()\n",
    "        print(\">\", func.__name__, \"evaluated in\", finish - start, \"seconds.\")\n",
    "        return val\n",
    "    return timed_func"
   ]
  },
  {
   "cell_type": "code",
   "execution_count": 29,
   "metadata": {},
   "outputs": [],
   "source": [
    "lgbeam = LGBeamFS(**parameters)\n",
    "\n",
    "def timed_bscs(nmax, m, l, method=intg.quad, plot=True,\n",
    "               dps=integrationdps, lgbeam=lgbeam, nmin=None):\n",
    "    if m != l - 1:\n",
    "        raise NotImplementedError(\"Still not available for m =\", m)\n",
    "    nmin = nmin if nmin is not None else m\n",
    "    ns = np.arange(nmin, nmax + 1, 2)\n",
    "    @timed\n",
    "    def bscs():\n",
    "        gs = []\n",
    "        with mpmath.workdps(dps):\n",
    "            for n in ns:\n",
    "                gs.append(mpmath.norm(lgbeam.tmbsc_lm1(n, intg_func=method)))\n",
    "        return gs\n",
    "    \n",
    "    print(\">> \", len(ns), \"BSCs in evaluation...\")\n",
    "    gs = bscs()\n",
    "    if plot:\n",
    "        plt.plot(ns, gs)\n",
    "        plt.grid()\n",
    "        plt.show()\n",
    "    return gs"
   ]
  },
  {
   "cell_type": "markdown",
   "metadata": {},
   "source": [
    "<font color=blue> Trusted BSCs will be saved in the $\\texttt{CONTROL_BSCS}$ variable: </font>"
   ]
  },
  {
   "cell_type": "code",
   "execution_count": 30,
   "metadata": {},
   "outputs": [
    {
     "name": "stdout",
     "output_type": "stream",
     "text": [
      ">>  250 BSCs in evaluation...\n",
      "> Evaluating bscs ...\n"
     ]
    },
    {
     "ename": "TypeError",
     "evalue": "nconv_tmbsc_lm1_evn() got multiple values for argument 'intg_func'",
     "output_type": "error",
     "traceback": [
      "\u001b[1;31m---------------------------------------------------------------------------\u001b[0m",
      "\u001b[1;31mTypeError\u001b[0m                                 Traceback (most recent call last)",
      "\u001b[1;32m<ipython-input-30-5ad38e0e75ad>\u001b[0m in \u001b[0;36m<module>\u001b[1;34m\u001b[0m\n\u001b[1;32m----> 1\u001b[1;33m \u001b[0mCONTROL_BSCS\u001b[0m \u001b[1;33m=\u001b[0m \u001b[0mtimed_bscs\u001b[0m\u001b[1;33m(\u001b[0m\u001b[1;36m500\u001b[0m\u001b[1;33m,\u001b[0m \u001b[0ml\u001b[0m \u001b[1;33m-\u001b[0m \u001b[1;36m1\u001b[0m\u001b[1;33m,\u001b[0m \u001b[0ml\u001b[0m\u001b[1;33m,\u001b[0m \u001b[0mmethod\u001b[0m\u001b[1;33m=\u001b[0m\u001b[0mmpmath\u001b[0m\u001b[1;33m.\u001b[0m\u001b[0mquad\u001b[0m\u001b[1;33m)\u001b[0m\u001b[1;33m\u001b[0m\u001b[1;33m\u001b[0m\u001b[0m\n\u001b[0m",
      "\u001b[1;32m<ipython-input-29-172ced350a0a>\u001b[0m in \u001b[0;36mtimed_bscs\u001b[1;34m(nmax, m, l, method, plot, dps, lgbeam, nmin)\u001b[0m\n\u001b[0;32m     16\u001b[0m \u001b[1;33m\u001b[0m\u001b[0m\n\u001b[0;32m     17\u001b[0m     \u001b[0mprint\u001b[0m\u001b[1;33m(\u001b[0m\u001b[1;34m\">> \"\u001b[0m\u001b[1;33m,\u001b[0m \u001b[0mlen\u001b[0m\u001b[1;33m(\u001b[0m\u001b[0mns\u001b[0m\u001b[1;33m)\u001b[0m\u001b[1;33m,\u001b[0m \u001b[1;34m\"BSCs in evaluation...\"\u001b[0m\u001b[1;33m)\u001b[0m\u001b[1;33m\u001b[0m\u001b[1;33m\u001b[0m\u001b[0m\n\u001b[1;32m---> 18\u001b[1;33m     \u001b[0mgs\u001b[0m \u001b[1;33m=\u001b[0m \u001b[0mbscs\u001b[0m\u001b[1;33m(\u001b[0m\u001b[1;33m)\u001b[0m\u001b[1;33m\u001b[0m\u001b[1;33m\u001b[0m\u001b[0m\n\u001b[0m\u001b[0;32m     19\u001b[0m     \u001b[1;32mif\u001b[0m \u001b[0mplot\u001b[0m\u001b[1;33m:\u001b[0m\u001b[1;33m\u001b[0m\u001b[1;33m\u001b[0m\u001b[0m\n\u001b[0;32m     20\u001b[0m         \u001b[0mplt\u001b[0m\u001b[1;33m.\u001b[0m\u001b[0mplot\u001b[0m\u001b[1;33m(\u001b[0m\u001b[0mns\u001b[0m\u001b[1;33m,\u001b[0m \u001b[0mgs\u001b[0m\u001b[1;33m)\u001b[0m\u001b[1;33m\u001b[0m\u001b[1;33m\u001b[0m\u001b[0m\n",
      "\u001b[1;32m<ipython-input-28-7b1e65c3a788>\u001b[0m in \u001b[0;36mtimed_func\u001b[1;34m(*args, **kwargs)\u001b[0m\n\u001b[0;32m      4\u001b[0m         \u001b[0mprint\u001b[0m\u001b[1;33m(\u001b[0m\u001b[1;34m\"> Evaluating\"\u001b[0m\u001b[1;33m,\u001b[0m \u001b[0mfunc\u001b[0m\u001b[1;33m.\u001b[0m\u001b[0m__name__\u001b[0m\u001b[1;33m,\u001b[0m \u001b[1;34m\"...\"\u001b[0m\u001b[1;33m)\u001b[0m\u001b[1;33m\u001b[0m\u001b[1;33m\u001b[0m\u001b[0m\n\u001b[0;32m      5\u001b[0m         \u001b[0mstart\u001b[0m \u001b[1;33m=\u001b[0m \u001b[0mtime\u001b[0m\u001b[1;33m.\u001b[0m\u001b[0mtime\u001b[0m\u001b[1;33m(\u001b[0m\u001b[1;33m)\u001b[0m\u001b[1;33m\u001b[0m\u001b[1;33m\u001b[0m\u001b[0m\n\u001b[1;32m----> 6\u001b[1;33m         \u001b[0mval\u001b[0m \u001b[1;33m=\u001b[0m \u001b[0mfunc\u001b[0m\u001b[1;33m(\u001b[0m\u001b[1;33m*\u001b[0m\u001b[0margs\u001b[0m\u001b[1;33m,\u001b[0m \u001b[1;33m**\u001b[0m\u001b[0mkwargs\u001b[0m\u001b[1;33m)\u001b[0m\u001b[1;33m\u001b[0m\u001b[1;33m\u001b[0m\u001b[0m\n\u001b[0m\u001b[0;32m      7\u001b[0m         \u001b[0mfinish\u001b[0m \u001b[1;33m=\u001b[0m \u001b[0mtime\u001b[0m\u001b[1;33m.\u001b[0m\u001b[0mtime\u001b[0m\u001b[1;33m(\u001b[0m\u001b[1;33m)\u001b[0m\u001b[1;33m\u001b[0m\u001b[1;33m\u001b[0m\u001b[0m\n\u001b[0;32m      8\u001b[0m         \u001b[0mprint\u001b[0m\u001b[1;33m(\u001b[0m\u001b[1;34m\">\"\u001b[0m\u001b[1;33m,\u001b[0m \u001b[0mfunc\u001b[0m\u001b[1;33m.\u001b[0m\u001b[0m__name__\u001b[0m\u001b[1;33m,\u001b[0m \u001b[1;34m\"evaluated in\"\u001b[0m\u001b[1;33m,\u001b[0m \u001b[0mfinish\u001b[0m \u001b[1;33m-\u001b[0m \u001b[0mstart\u001b[0m\u001b[1;33m,\u001b[0m \u001b[1;34m\"seconds.\"\u001b[0m\u001b[1;33m)\u001b[0m\u001b[1;33m\u001b[0m\u001b[1;33m\u001b[0m\u001b[0m\n",
      "\u001b[1;32m<ipython-input-29-172ced350a0a>\u001b[0m in \u001b[0;36mbscs\u001b[1;34m()\u001b[0m\n\u001b[0;32m     12\u001b[0m         \u001b[1;32mwith\u001b[0m \u001b[0mmpmath\u001b[0m\u001b[1;33m.\u001b[0m\u001b[0mworkdps\u001b[0m\u001b[1;33m(\u001b[0m\u001b[0mdps\u001b[0m\u001b[1;33m)\u001b[0m\u001b[1;33m:\u001b[0m\u001b[1;33m\u001b[0m\u001b[1;33m\u001b[0m\u001b[0m\n\u001b[0;32m     13\u001b[0m             \u001b[1;32mfor\u001b[0m \u001b[0mn\u001b[0m \u001b[1;32min\u001b[0m \u001b[0mns\u001b[0m\u001b[1;33m:\u001b[0m\u001b[1;33m\u001b[0m\u001b[1;33m\u001b[0m\u001b[0m\n\u001b[1;32m---> 14\u001b[1;33m                 \u001b[0mgs\u001b[0m\u001b[1;33m.\u001b[0m\u001b[0mappend\u001b[0m\u001b[1;33m(\u001b[0m\u001b[0mmpmath\u001b[0m\u001b[1;33m.\u001b[0m\u001b[0mnorm\u001b[0m\u001b[1;33m(\u001b[0m\u001b[0mlgbeam\u001b[0m\u001b[1;33m.\u001b[0m\u001b[0mtmbsc_lm1\u001b[0m\u001b[1;33m(\u001b[0m\u001b[0mn\u001b[0m\u001b[1;33m,\u001b[0m \u001b[0mintg_func\u001b[0m\u001b[1;33m=\u001b[0m\u001b[0mmethod\u001b[0m\u001b[1;33m)\u001b[0m\u001b[1;33m)\u001b[0m\u001b[1;33m)\u001b[0m\u001b[1;33m\u001b[0m\u001b[1;33m\u001b[0m\u001b[0m\n\u001b[0m\u001b[0;32m     15\u001b[0m         \u001b[1;32mreturn\u001b[0m \u001b[0mgs\u001b[0m\u001b[1;33m\u001b[0m\u001b[1;33m\u001b[0m\u001b[0m\n\u001b[0;32m     16\u001b[0m \u001b[1;33m\u001b[0m\u001b[0m\n",
      "\u001b[1;32m<ipython-input-27-c1d305ad0f0b>\u001b[0m in \u001b[0;36mtmbsc_lm1\u001b[1;34m(self, n, intg_func)\u001b[0m\n\u001b[0;32m    189\u001b[0m         \u001b[1;32mwith\u001b[0m \u001b[0mmpmath\u001b[0m\u001b[1;33m.\u001b[0m\u001b[0mworkdps\u001b[0m\u001b[1;33m(\u001b[0m\u001b[0mintegrationdps\u001b[0m\u001b[1;33m)\u001b[0m\u001b[1;33m:\u001b[0m\u001b[1;33m\u001b[0m\u001b[1;33m\u001b[0m\u001b[0m\n\u001b[0;32m    190\u001b[0m             \u001b[1;32mreturn\u001b[0m \u001b[1;33m(\u001b[0m\u001b[1;33m-\u001b[0m\u001b[1;36m1\u001b[0m\u001b[1;33m)\u001b[0m \u001b[1;33m**\u001b[0m \u001b[1;33m(\u001b[0m\u001b[0mn\u001b[0m \u001b[1;33m+\u001b[0m \u001b[1;36m1\u001b[0m\u001b[1;33m)\u001b[0m\u001b[0;31m \u001b[0m\u001b[0;31m\\\u001b[0m\u001b[1;33m\u001b[0m\u001b[1;33m\u001b[0m\u001b[0m\n\u001b[1;32m--> 191\u001b[1;33m                  \u001b[1;33m*\u001b[0m \u001b[0mmpmath\u001b[0m\u001b[1;33m.\u001b[0m\u001b[0mconj\u001b[0m\u001b[1;33m(\u001b[0m\u001b[0mself\u001b[0m\u001b[1;33m.\u001b[0m\u001b[0mnconv_tmbsc_lm1\u001b[0m\u001b[1;33m(\u001b[0m\u001b[0mn\u001b[0m\u001b[1;33m,\u001b[0m \u001b[0mintg_func\u001b[0m\u001b[1;33m=\u001b[0m\u001b[0mintg_func\u001b[0m\u001b[1;33m)\u001b[0m\u001b[1;33m)\u001b[0m\u001b[1;33m\u001b[0m\u001b[1;33m\u001b[0m\u001b[0m\n\u001b[0m",
      "\u001b[1;32m<ipython-input-27-c1d305ad0f0b>\u001b[0m in \u001b[0;36mnconv_tmbsc_lm1\u001b[1;34m(self, n, intg_func)\u001b[0m\n\u001b[0;32m    183\u001b[0m     \u001b[1;32mdef\u001b[0m \u001b[0mnconv_tmbsc_lm1\u001b[0m\u001b[1;33m(\u001b[0m\u001b[0mself\u001b[0m\u001b[1;33m,\u001b[0m \u001b[0mn\u001b[0m\u001b[1;33m,\u001b[0m \u001b[0mintg_func\u001b[0m\u001b[1;33m=\u001b[0m\u001b[0mintg\u001b[0m\u001b[1;33m.\u001b[0m\u001b[0mquad\u001b[0m\u001b[1;33m)\u001b[0m\u001b[1;33m:\u001b[0m\u001b[1;33m\u001b[0m\u001b[1;33m\u001b[0m\u001b[0m\n\u001b[0;32m    184\u001b[0m         \u001b[1;32mif\u001b[0m \u001b[1;33m(\u001b[0m\u001b[0mn\u001b[0m \u001b[1;33m-\u001b[0m \u001b[0mself\u001b[0m\u001b[1;33m.\u001b[0m\u001b[0ml\u001b[0m\u001b[1;33m)\u001b[0m \u001b[1;33m%\u001b[0m \u001b[1;36m2\u001b[0m\u001b[1;33m:\u001b[0m\u001b[1;33m\u001b[0m\u001b[1;33m\u001b[0m\u001b[0m\n\u001b[1;32m--> 185\u001b[1;33m             \u001b[1;32mreturn\u001b[0m \u001b[0mself\u001b[0m\u001b[1;33m.\u001b[0m\u001b[0mnconv_tmbsc_lm1_evn\u001b[0m\u001b[1;33m(\u001b[0m\u001b[0mself\u001b[0m\u001b[1;33m,\u001b[0m \u001b[0mn\u001b[0m\u001b[1;33m,\u001b[0m \u001b[0mintg_func\u001b[0m\u001b[1;33m=\u001b[0m\u001b[0mintg_func\u001b[0m\u001b[1;33m)\u001b[0m\u001b[1;33m\u001b[0m\u001b[1;33m\u001b[0m\u001b[0m\n\u001b[0m\u001b[0;32m    186\u001b[0m         \u001b[1;32mreturn\u001b[0m \u001b[0mself\u001b[0m\u001b[1;33m.\u001b[0m\u001b[0mnconv_tmbsc_lm1_odd\u001b[0m\u001b[1;33m(\u001b[0m\u001b[0mself\u001b[0m\u001b[1;33m,\u001b[0m \u001b[0mn\u001b[0m\u001b[1;33m,\u001b[0m \u001b[0mintg_func\u001b[0m\u001b[1;33m=\u001b[0m\u001b[0mintg_func\u001b[0m\u001b[1;33m)\u001b[0m\u001b[1;33m\u001b[0m\u001b[1;33m\u001b[0m\u001b[0m\n\u001b[0;32m    187\u001b[0m \u001b[1;33m\u001b[0m\u001b[0m\n",
      "\u001b[1;31mTypeError\u001b[0m: nconv_tmbsc_lm1_evn() got multiple values for argument 'intg_func'"
     ]
    }
   ],
   "source": [
    "CONTROL_BSCS = timed_bscs(500, l - 1, l, method=mpmath.quad)"
   ]
  },
  {
   "cell_type": "code",
   "execution_count": 20,
   "metadata": {},
   "outputs": [],
   "source": [
    "nmax = 500\n",
    "m = l - 1\n",
    "simargs = [nmax, m, l]"
   ]
  },
  {
   "cell_type": "markdown",
   "metadata": {},
   "source": [
    "For now, $\\texttt{mpmath.quad}$ has the longest runtime, but offers results I better trust.<br>\n",
    "Notice runtime below might seem \"too short\" because of memoization, which is fundamental to have in our case due to deep recursion processes."
   ]
  },
  {
   "cell_type": "code",
   "execution_count": 22,
   "metadata": {},
   "outputs": [
    {
     "name": "stdout",
     "output_type": "stream",
     "text": [
      ">>  250 BSCs in evaluation...\n",
      "> Evaluating bscs ...\n"
     ]
    },
    {
     "ename": "TypeError",
     "evalue": "nconv_tmbsc_lm1_evn() got multiple values for argument 'intg_func'",
     "output_type": "error",
     "traceback": [
      "\u001b[1;31m---------------------------------------------------------------------------\u001b[0m",
      "\u001b[1;31mTypeError\u001b[0m                                 Traceback (most recent call last)",
      "\u001b[1;32m<ipython-input-22-1fe8325fe7f3>\u001b[0m in \u001b[0;36m<module>\u001b[1;34m\u001b[0m\n\u001b[1;32m----> 1\u001b[1;33m \u001b[0mMPMATH_BSCS\u001b[0m \u001b[1;33m=\u001b[0m \u001b[0mtimed_bscs\u001b[0m\u001b[1;33m(\u001b[0m\u001b[1;33m*\u001b[0m\u001b[0msimargs\u001b[0m\u001b[1;33m,\u001b[0m \u001b[0mmethod\u001b[0m\u001b[1;33m=\u001b[0m\u001b[0mmpmath\u001b[0m\u001b[1;33m.\u001b[0m\u001b[0mquad\u001b[0m\u001b[1;33m)\u001b[0m\u001b[1;33m\u001b[0m\u001b[1;33m\u001b[0m\u001b[0m\n\u001b[0m",
      "\u001b[1;32m<ipython-input-17-172ced350a0a>\u001b[0m in \u001b[0;36mtimed_bscs\u001b[1;34m(nmax, m, l, method, plot, dps, lgbeam, nmin)\u001b[0m\n\u001b[0;32m     16\u001b[0m \u001b[1;33m\u001b[0m\u001b[0m\n\u001b[0;32m     17\u001b[0m     \u001b[0mprint\u001b[0m\u001b[1;33m(\u001b[0m\u001b[1;34m\">> \"\u001b[0m\u001b[1;33m,\u001b[0m \u001b[0mlen\u001b[0m\u001b[1;33m(\u001b[0m\u001b[0mns\u001b[0m\u001b[1;33m)\u001b[0m\u001b[1;33m,\u001b[0m \u001b[1;34m\"BSCs in evaluation...\"\u001b[0m\u001b[1;33m)\u001b[0m\u001b[1;33m\u001b[0m\u001b[1;33m\u001b[0m\u001b[0m\n\u001b[1;32m---> 18\u001b[1;33m     \u001b[0mgs\u001b[0m \u001b[1;33m=\u001b[0m \u001b[0mbscs\u001b[0m\u001b[1;33m(\u001b[0m\u001b[1;33m)\u001b[0m\u001b[1;33m\u001b[0m\u001b[1;33m\u001b[0m\u001b[0m\n\u001b[0m\u001b[0;32m     19\u001b[0m     \u001b[1;32mif\u001b[0m \u001b[0mplot\u001b[0m\u001b[1;33m:\u001b[0m\u001b[1;33m\u001b[0m\u001b[1;33m\u001b[0m\u001b[0m\n\u001b[0;32m     20\u001b[0m         \u001b[0mplt\u001b[0m\u001b[1;33m.\u001b[0m\u001b[0mplot\u001b[0m\u001b[1;33m(\u001b[0m\u001b[0mns\u001b[0m\u001b[1;33m,\u001b[0m \u001b[0mgs\u001b[0m\u001b[1;33m)\u001b[0m\u001b[1;33m\u001b[0m\u001b[1;33m\u001b[0m\u001b[0m\n",
      "\u001b[1;32m<ipython-input-16-7b1e65c3a788>\u001b[0m in \u001b[0;36mtimed_func\u001b[1;34m(*args, **kwargs)\u001b[0m\n\u001b[0;32m      4\u001b[0m         \u001b[0mprint\u001b[0m\u001b[1;33m(\u001b[0m\u001b[1;34m\"> Evaluating\"\u001b[0m\u001b[1;33m,\u001b[0m \u001b[0mfunc\u001b[0m\u001b[1;33m.\u001b[0m\u001b[0m__name__\u001b[0m\u001b[1;33m,\u001b[0m \u001b[1;34m\"...\"\u001b[0m\u001b[1;33m)\u001b[0m\u001b[1;33m\u001b[0m\u001b[1;33m\u001b[0m\u001b[0m\n\u001b[0;32m      5\u001b[0m         \u001b[0mstart\u001b[0m \u001b[1;33m=\u001b[0m \u001b[0mtime\u001b[0m\u001b[1;33m.\u001b[0m\u001b[0mtime\u001b[0m\u001b[1;33m(\u001b[0m\u001b[1;33m)\u001b[0m\u001b[1;33m\u001b[0m\u001b[1;33m\u001b[0m\u001b[0m\n\u001b[1;32m----> 6\u001b[1;33m         \u001b[0mval\u001b[0m \u001b[1;33m=\u001b[0m \u001b[0mfunc\u001b[0m\u001b[1;33m(\u001b[0m\u001b[1;33m*\u001b[0m\u001b[0margs\u001b[0m\u001b[1;33m,\u001b[0m \u001b[1;33m**\u001b[0m\u001b[0mkwargs\u001b[0m\u001b[1;33m)\u001b[0m\u001b[1;33m\u001b[0m\u001b[1;33m\u001b[0m\u001b[0m\n\u001b[0m\u001b[0;32m      7\u001b[0m         \u001b[0mfinish\u001b[0m \u001b[1;33m=\u001b[0m \u001b[0mtime\u001b[0m\u001b[1;33m.\u001b[0m\u001b[0mtime\u001b[0m\u001b[1;33m(\u001b[0m\u001b[1;33m)\u001b[0m\u001b[1;33m\u001b[0m\u001b[1;33m\u001b[0m\u001b[0m\n\u001b[0;32m      8\u001b[0m         \u001b[0mprint\u001b[0m\u001b[1;33m(\u001b[0m\u001b[1;34m\">\"\u001b[0m\u001b[1;33m,\u001b[0m \u001b[0mfunc\u001b[0m\u001b[1;33m.\u001b[0m\u001b[0m__name__\u001b[0m\u001b[1;33m,\u001b[0m \u001b[1;34m\"evaluated in\"\u001b[0m\u001b[1;33m,\u001b[0m \u001b[0mfinish\u001b[0m \u001b[1;33m-\u001b[0m \u001b[0mstart\u001b[0m\u001b[1;33m,\u001b[0m \u001b[1;34m\"seconds.\"\u001b[0m\u001b[1;33m)\u001b[0m\u001b[1;33m\u001b[0m\u001b[1;33m\u001b[0m\u001b[0m\n",
      "\u001b[1;32m<ipython-input-17-172ced350a0a>\u001b[0m in \u001b[0;36mbscs\u001b[1;34m()\u001b[0m\n\u001b[0;32m     12\u001b[0m         \u001b[1;32mwith\u001b[0m \u001b[0mmpmath\u001b[0m\u001b[1;33m.\u001b[0m\u001b[0mworkdps\u001b[0m\u001b[1;33m(\u001b[0m\u001b[0mdps\u001b[0m\u001b[1;33m)\u001b[0m\u001b[1;33m:\u001b[0m\u001b[1;33m\u001b[0m\u001b[1;33m\u001b[0m\u001b[0m\n\u001b[0;32m     13\u001b[0m             \u001b[1;32mfor\u001b[0m \u001b[0mn\u001b[0m \u001b[1;32min\u001b[0m \u001b[0mns\u001b[0m\u001b[1;33m:\u001b[0m\u001b[1;33m\u001b[0m\u001b[1;33m\u001b[0m\u001b[0m\n\u001b[1;32m---> 14\u001b[1;33m                 \u001b[0mgs\u001b[0m\u001b[1;33m.\u001b[0m\u001b[0mappend\u001b[0m\u001b[1;33m(\u001b[0m\u001b[0mmpmath\u001b[0m\u001b[1;33m.\u001b[0m\u001b[0mnorm\u001b[0m\u001b[1;33m(\u001b[0m\u001b[0mlgbeam\u001b[0m\u001b[1;33m.\u001b[0m\u001b[0mtmbsc_lm1\u001b[0m\u001b[1;33m(\u001b[0m\u001b[0mn\u001b[0m\u001b[1;33m,\u001b[0m \u001b[0mintg_func\u001b[0m\u001b[1;33m=\u001b[0m\u001b[0mmethod\u001b[0m\u001b[1;33m)\u001b[0m\u001b[1;33m)\u001b[0m\u001b[1;33m)\u001b[0m\u001b[1;33m\u001b[0m\u001b[1;33m\u001b[0m\u001b[0m\n\u001b[0m\u001b[0;32m     15\u001b[0m         \u001b[1;32mreturn\u001b[0m \u001b[0mgs\u001b[0m\u001b[1;33m\u001b[0m\u001b[1;33m\u001b[0m\u001b[0m\n\u001b[0;32m     16\u001b[0m \u001b[1;33m\u001b[0m\u001b[0m\n",
      "\u001b[1;32m<ipython-input-15-18e4fd223e43>\u001b[0m in \u001b[0;36mtmbsc_lm1\u001b[1;34m(self, n, intg_func)\u001b[0m\n\u001b[0;32m    188\u001b[0m         \u001b[1;32mwith\u001b[0m \u001b[0mmpmath\u001b[0m\u001b[1;33m.\u001b[0m\u001b[0mworkdps\u001b[0m\u001b[1;33m(\u001b[0m\u001b[0mintegrationdps\u001b[0m\u001b[1;33m)\u001b[0m\u001b[1;33m:\u001b[0m\u001b[1;33m\u001b[0m\u001b[1;33m\u001b[0m\u001b[0m\n\u001b[0;32m    189\u001b[0m             \u001b[1;32mreturn\u001b[0m \u001b[1;33m(\u001b[0m\u001b[1;33m-\u001b[0m\u001b[1;36m1\u001b[0m\u001b[1;33m)\u001b[0m \u001b[1;33m**\u001b[0m \u001b[1;33m(\u001b[0m\u001b[0mn\u001b[0m \u001b[1;33m+\u001b[0m \u001b[1;36m1\u001b[0m\u001b[1;33m)\u001b[0m\u001b[0;31m \u001b[0m\u001b[0;31m\\\u001b[0m\u001b[1;33m\u001b[0m\u001b[1;33m\u001b[0m\u001b[0m\n\u001b[1;32m--> 190\u001b[1;33m                  \u001b[1;33m*\u001b[0m \u001b[0mmpmath\u001b[0m\u001b[1;33m.\u001b[0m\u001b[0mconj\u001b[0m\u001b[1;33m(\u001b[0m\u001b[0mself\u001b[0m\u001b[1;33m.\u001b[0m\u001b[0mnconv_tmbsc_lm1\u001b[0m\u001b[1;33m(\u001b[0m\u001b[0mn\u001b[0m\u001b[1;33m,\u001b[0m \u001b[0mintg_func\u001b[0m\u001b[1;33m=\u001b[0m\u001b[0mintg_func\u001b[0m\u001b[1;33m)\u001b[0m\u001b[1;33m)\u001b[0m\u001b[1;33m\u001b[0m\u001b[1;33m\u001b[0m\u001b[0m\n\u001b[0m",
      "\u001b[1;32m<ipython-input-15-18e4fd223e43>\u001b[0m in \u001b[0;36mnconv_tmbsc_lm1\u001b[1;34m(self, n, intg_func)\u001b[0m\n\u001b[0;32m    152\u001b[0m     \u001b[1;32mdef\u001b[0m \u001b[0mnconv_tmbsc_lm1\u001b[0m\u001b[1;33m(\u001b[0m\u001b[0mself\u001b[0m\u001b[1;33m,\u001b[0m \u001b[0mn\u001b[0m\u001b[1;33m,\u001b[0m \u001b[0mintg_func\u001b[0m\u001b[1;33m=\u001b[0m\u001b[0mintg\u001b[0m\u001b[1;33m.\u001b[0m\u001b[0mquad\u001b[0m\u001b[1;33m)\u001b[0m\u001b[1;33m:\u001b[0m\u001b[1;33m\u001b[0m\u001b[1;33m\u001b[0m\u001b[0m\n\u001b[0;32m    153\u001b[0m         \u001b[1;32mif\u001b[0m \u001b[1;33m(\u001b[0m\u001b[0mn\u001b[0m \u001b[1;33m-\u001b[0m \u001b[0mself\u001b[0m\u001b[1;33m.\u001b[0m\u001b[0ml\u001b[0m\u001b[1;33m)\u001b[0m \u001b[1;33m%\u001b[0m \u001b[1;36m2\u001b[0m\u001b[1;33m:\u001b[0m\u001b[1;33m\u001b[0m\u001b[1;33m\u001b[0m\u001b[0m\n\u001b[1;32m--> 154\u001b[1;33m             \u001b[1;32mreturn\u001b[0m \u001b[0mself\u001b[0m\u001b[1;33m.\u001b[0m\u001b[0mnconv_tmbsc_lm1_evn\u001b[0m\u001b[1;33m(\u001b[0m\u001b[0mself\u001b[0m\u001b[1;33m,\u001b[0m \u001b[0mn\u001b[0m\u001b[1;33m,\u001b[0m \u001b[0mintg_func\u001b[0m\u001b[1;33m=\u001b[0m\u001b[0mintg_func\u001b[0m\u001b[1;33m)\u001b[0m\u001b[1;33m\u001b[0m\u001b[1;33m\u001b[0m\u001b[0m\n\u001b[0m\u001b[0;32m    155\u001b[0m         \u001b[1;32mreturn\u001b[0m \u001b[0mself\u001b[0m\u001b[1;33m.\u001b[0m\u001b[0mnconv_tmbsc_lm1_odd\u001b[0m\u001b[1;33m(\u001b[0m\u001b[0mself\u001b[0m\u001b[1;33m,\u001b[0m \u001b[0mn\u001b[0m\u001b[1;33m,\u001b[0m \u001b[0mintg_func\u001b[0m\u001b[1;33m=\u001b[0m\u001b[0mintg_func\u001b[0m\u001b[1;33m)\u001b[0m\u001b[1;33m\u001b[0m\u001b[1;33m\u001b[0m\u001b[0m\n\u001b[0;32m    156\u001b[0m \u001b[1;33m\u001b[0m\u001b[0m\n",
      "\u001b[1;31mTypeError\u001b[0m: nconv_tmbsc_lm1_evn() got multiple values for argument 'intg_func'"
     ]
    }
   ],
   "source": [
    "MPMATH_BSCS = timed_bscs(*simargs, method=mpmath.quad)"
   ]
  },
  {
   "cell_type": "markdown",
   "metadata": {},
   "source": [
    "<font color=red> $\\texttt{scipy.integrate.quad}$: quadrature as in FORTRAN's $\\texttt{QUADPACK}$ </font>"
   ]
  },
  {
   "cell_type": "code",
   "execution_count": 23,
   "metadata": {},
   "outputs": [
    {
     "name": "stdout",
     "output_type": "stream",
     "text": [
      ">>  250 BSCs in evaluation...\n",
      "> Evaluating bscs ...\n"
     ]
    },
    {
     "ename": "TypeError",
     "evalue": "nconv_tmbsc_lm1_evn() got multiple values for argument 'intg_func'",
     "output_type": "error",
     "traceback": [
      "\u001b[1;31m---------------------------------------------------------------------------\u001b[0m",
      "\u001b[1;31mTypeError\u001b[0m                                 Traceback (most recent call last)",
      "\u001b[1;32m<ipython-input-23-199a76e0237c>\u001b[0m in \u001b[0;36m<module>\u001b[1;34m\u001b[0m\n\u001b[1;32m----> 1\u001b[1;33m \u001b[0mQUAD_BSCS\u001b[0m \u001b[1;33m=\u001b[0m \u001b[0mtimed_bscs\u001b[0m\u001b[1;33m(\u001b[0m\u001b[1;33m*\u001b[0m\u001b[0msimargs\u001b[0m\u001b[1;33m,\u001b[0m \u001b[0mmethod\u001b[0m\u001b[1;33m=\u001b[0m\u001b[0mintg\u001b[0m\u001b[1;33m.\u001b[0m\u001b[0mquad\u001b[0m\u001b[1;33m)\u001b[0m\u001b[1;33m\u001b[0m\u001b[1;33m\u001b[0m\u001b[0m\n\u001b[0m",
      "\u001b[1;32m<ipython-input-17-172ced350a0a>\u001b[0m in \u001b[0;36mtimed_bscs\u001b[1;34m(nmax, m, l, method, plot, dps, lgbeam, nmin)\u001b[0m\n\u001b[0;32m     16\u001b[0m \u001b[1;33m\u001b[0m\u001b[0m\n\u001b[0;32m     17\u001b[0m     \u001b[0mprint\u001b[0m\u001b[1;33m(\u001b[0m\u001b[1;34m\">> \"\u001b[0m\u001b[1;33m,\u001b[0m \u001b[0mlen\u001b[0m\u001b[1;33m(\u001b[0m\u001b[0mns\u001b[0m\u001b[1;33m)\u001b[0m\u001b[1;33m,\u001b[0m \u001b[1;34m\"BSCs in evaluation...\"\u001b[0m\u001b[1;33m)\u001b[0m\u001b[1;33m\u001b[0m\u001b[1;33m\u001b[0m\u001b[0m\n\u001b[1;32m---> 18\u001b[1;33m     \u001b[0mgs\u001b[0m \u001b[1;33m=\u001b[0m \u001b[0mbscs\u001b[0m\u001b[1;33m(\u001b[0m\u001b[1;33m)\u001b[0m\u001b[1;33m\u001b[0m\u001b[1;33m\u001b[0m\u001b[0m\n\u001b[0m\u001b[0;32m     19\u001b[0m     \u001b[1;32mif\u001b[0m \u001b[0mplot\u001b[0m\u001b[1;33m:\u001b[0m\u001b[1;33m\u001b[0m\u001b[1;33m\u001b[0m\u001b[0m\n\u001b[0;32m     20\u001b[0m         \u001b[0mplt\u001b[0m\u001b[1;33m.\u001b[0m\u001b[0mplot\u001b[0m\u001b[1;33m(\u001b[0m\u001b[0mns\u001b[0m\u001b[1;33m,\u001b[0m \u001b[0mgs\u001b[0m\u001b[1;33m)\u001b[0m\u001b[1;33m\u001b[0m\u001b[1;33m\u001b[0m\u001b[0m\n",
      "\u001b[1;32m<ipython-input-16-7b1e65c3a788>\u001b[0m in \u001b[0;36mtimed_func\u001b[1;34m(*args, **kwargs)\u001b[0m\n\u001b[0;32m      4\u001b[0m         \u001b[0mprint\u001b[0m\u001b[1;33m(\u001b[0m\u001b[1;34m\"> Evaluating\"\u001b[0m\u001b[1;33m,\u001b[0m \u001b[0mfunc\u001b[0m\u001b[1;33m.\u001b[0m\u001b[0m__name__\u001b[0m\u001b[1;33m,\u001b[0m \u001b[1;34m\"...\"\u001b[0m\u001b[1;33m)\u001b[0m\u001b[1;33m\u001b[0m\u001b[1;33m\u001b[0m\u001b[0m\n\u001b[0;32m      5\u001b[0m         \u001b[0mstart\u001b[0m \u001b[1;33m=\u001b[0m \u001b[0mtime\u001b[0m\u001b[1;33m.\u001b[0m\u001b[0mtime\u001b[0m\u001b[1;33m(\u001b[0m\u001b[1;33m)\u001b[0m\u001b[1;33m\u001b[0m\u001b[1;33m\u001b[0m\u001b[0m\n\u001b[1;32m----> 6\u001b[1;33m         \u001b[0mval\u001b[0m \u001b[1;33m=\u001b[0m \u001b[0mfunc\u001b[0m\u001b[1;33m(\u001b[0m\u001b[1;33m*\u001b[0m\u001b[0margs\u001b[0m\u001b[1;33m,\u001b[0m \u001b[1;33m**\u001b[0m\u001b[0mkwargs\u001b[0m\u001b[1;33m)\u001b[0m\u001b[1;33m\u001b[0m\u001b[1;33m\u001b[0m\u001b[0m\n\u001b[0m\u001b[0;32m      7\u001b[0m         \u001b[0mfinish\u001b[0m \u001b[1;33m=\u001b[0m \u001b[0mtime\u001b[0m\u001b[1;33m.\u001b[0m\u001b[0mtime\u001b[0m\u001b[1;33m(\u001b[0m\u001b[1;33m)\u001b[0m\u001b[1;33m\u001b[0m\u001b[1;33m\u001b[0m\u001b[0m\n\u001b[0;32m      8\u001b[0m         \u001b[0mprint\u001b[0m\u001b[1;33m(\u001b[0m\u001b[1;34m\">\"\u001b[0m\u001b[1;33m,\u001b[0m \u001b[0mfunc\u001b[0m\u001b[1;33m.\u001b[0m\u001b[0m__name__\u001b[0m\u001b[1;33m,\u001b[0m \u001b[1;34m\"evaluated in\"\u001b[0m\u001b[1;33m,\u001b[0m \u001b[0mfinish\u001b[0m \u001b[1;33m-\u001b[0m \u001b[0mstart\u001b[0m\u001b[1;33m,\u001b[0m \u001b[1;34m\"seconds.\"\u001b[0m\u001b[1;33m)\u001b[0m\u001b[1;33m\u001b[0m\u001b[1;33m\u001b[0m\u001b[0m\n",
      "\u001b[1;32m<ipython-input-17-172ced350a0a>\u001b[0m in \u001b[0;36mbscs\u001b[1;34m()\u001b[0m\n\u001b[0;32m     12\u001b[0m         \u001b[1;32mwith\u001b[0m \u001b[0mmpmath\u001b[0m\u001b[1;33m.\u001b[0m\u001b[0mworkdps\u001b[0m\u001b[1;33m(\u001b[0m\u001b[0mdps\u001b[0m\u001b[1;33m)\u001b[0m\u001b[1;33m:\u001b[0m\u001b[1;33m\u001b[0m\u001b[1;33m\u001b[0m\u001b[0m\n\u001b[0;32m     13\u001b[0m             \u001b[1;32mfor\u001b[0m \u001b[0mn\u001b[0m \u001b[1;32min\u001b[0m \u001b[0mns\u001b[0m\u001b[1;33m:\u001b[0m\u001b[1;33m\u001b[0m\u001b[1;33m\u001b[0m\u001b[0m\n\u001b[1;32m---> 14\u001b[1;33m                 \u001b[0mgs\u001b[0m\u001b[1;33m.\u001b[0m\u001b[0mappend\u001b[0m\u001b[1;33m(\u001b[0m\u001b[0mmpmath\u001b[0m\u001b[1;33m.\u001b[0m\u001b[0mnorm\u001b[0m\u001b[1;33m(\u001b[0m\u001b[0mlgbeam\u001b[0m\u001b[1;33m.\u001b[0m\u001b[0mtmbsc_lm1\u001b[0m\u001b[1;33m(\u001b[0m\u001b[0mn\u001b[0m\u001b[1;33m,\u001b[0m \u001b[0mintg_func\u001b[0m\u001b[1;33m=\u001b[0m\u001b[0mmethod\u001b[0m\u001b[1;33m)\u001b[0m\u001b[1;33m)\u001b[0m\u001b[1;33m)\u001b[0m\u001b[1;33m\u001b[0m\u001b[1;33m\u001b[0m\u001b[0m\n\u001b[0m\u001b[0;32m     15\u001b[0m         \u001b[1;32mreturn\u001b[0m \u001b[0mgs\u001b[0m\u001b[1;33m\u001b[0m\u001b[1;33m\u001b[0m\u001b[0m\n\u001b[0;32m     16\u001b[0m \u001b[1;33m\u001b[0m\u001b[0m\n",
      "\u001b[1;32m<ipython-input-15-18e4fd223e43>\u001b[0m in \u001b[0;36mtmbsc_lm1\u001b[1;34m(self, n, intg_func)\u001b[0m\n\u001b[0;32m    188\u001b[0m         \u001b[1;32mwith\u001b[0m \u001b[0mmpmath\u001b[0m\u001b[1;33m.\u001b[0m\u001b[0mworkdps\u001b[0m\u001b[1;33m(\u001b[0m\u001b[0mintegrationdps\u001b[0m\u001b[1;33m)\u001b[0m\u001b[1;33m:\u001b[0m\u001b[1;33m\u001b[0m\u001b[1;33m\u001b[0m\u001b[0m\n\u001b[0;32m    189\u001b[0m             \u001b[1;32mreturn\u001b[0m \u001b[1;33m(\u001b[0m\u001b[1;33m-\u001b[0m\u001b[1;36m1\u001b[0m\u001b[1;33m)\u001b[0m \u001b[1;33m**\u001b[0m \u001b[1;33m(\u001b[0m\u001b[0mn\u001b[0m \u001b[1;33m+\u001b[0m \u001b[1;36m1\u001b[0m\u001b[1;33m)\u001b[0m\u001b[0;31m \u001b[0m\u001b[0;31m\\\u001b[0m\u001b[1;33m\u001b[0m\u001b[1;33m\u001b[0m\u001b[0m\n\u001b[1;32m--> 190\u001b[1;33m                  \u001b[1;33m*\u001b[0m \u001b[0mmpmath\u001b[0m\u001b[1;33m.\u001b[0m\u001b[0mconj\u001b[0m\u001b[1;33m(\u001b[0m\u001b[0mself\u001b[0m\u001b[1;33m.\u001b[0m\u001b[0mnconv_tmbsc_lm1\u001b[0m\u001b[1;33m(\u001b[0m\u001b[0mn\u001b[0m\u001b[1;33m,\u001b[0m \u001b[0mintg_func\u001b[0m\u001b[1;33m=\u001b[0m\u001b[0mintg_func\u001b[0m\u001b[1;33m)\u001b[0m\u001b[1;33m)\u001b[0m\u001b[1;33m\u001b[0m\u001b[1;33m\u001b[0m\u001b[0m\n\u001b[0m",
      "\u001b[1;32m<ipython-input-15-18e4fd223e43>\u001b[0m in \u001b[0;36mnconv_tmbsc_lm1\u001b[1;34m(self, n, intg_func)\u001b[0m\n\u001b[0;32m    152\u001b[0m     \u001b[1;32mdef\u001b[0m \u001b[0mnconv_tmbsc_lm1\u001b[0m\u001b[1;33m(\u001b[0m\u001b[0mself\u001b[0m\u001b[1;33m,\u001b[0m \u001b[0mn\u001b[0m\u001b[1;33m,\u001b[0m \u001b[0mintg_func\u001b[0m\u001b[1;33m=\u001b[0m\u001b[0mintg\u001b[0m\u001b[1;33m.\u001b[0m\u001b[0mquad\u001b[0m\u001b[1;33m)\u001b[0m\u001b[1;33m:\u001b[0m\u001b[1;33m\u001b[0m\u001b[1;33m\u001b[0m\u001b[0m\n\u001b[0;32m    153\u001b[0m         \u001b[1;32mif\u001b[0m \u001b[1;33m(\u001b[0m\u001b[0mn\u001b[0m \u001b[1;33m-\u001b[0m \u001b[0mself\u001b[0m\u001b[1;33m.\u001b[0m\u001b[0ml\u001b[0m\u001b[1;33m)\u001b[0m \u001b[1;33m%\u001b[0m \u001b[1;36m2\u001b[0m\u001b[1;33m:\u001b[0m\u001b[1;33m\u001b[0m\u001b[1;33m\u001b[0m\u001b[0m\n\u001b[1;32m--> 154\u001b[1;33m             \u001b[1;32mreturn\u001b[0m \u001b[0mself\u001b[0m\u001b[1;33m.\u001b[0m\u001b[0mnconv_tmbsc_lm1_evn\u001b[0m\u001b[1;33m(\u001b[0m\u001b[0mself\u001b[0m\u001b[1;33m,\u001b[0m \u001b[0mn\u001b[0m\u001b[1;33m,\u001b[0m \u001b[0mintg_func\u001b[0m\u001b[1;33m=\u001b[0m\u001b[0mintg_func\u001b[0m\u001b[1;33m)\u001b[0m\u001b[1;33m\u001b[0m\u001b[1;33m\u001b[0m\u001b[0m\n\u001b[0m\u001b[0;32m    155\u001b[0m         \u001b[1;32mreturn\u001b[0m \u001b[0mself\u001b[0m\u001b[1;33m.\u001b[0m\u001b[0mnconv_tmbsc_lm1_odd\u001b[0m\u001b[1;33m(\u001b[0m\u001b[0mself\u001b[0m\u001b[1;33m,\u001b[0m \u001b[0mn\u001b[0m\u001b[1;33m,\u001b[0m \u001b[0mintg_func\u001b[0m\u001b[1;33m=\u001b[0m\u001b[0mintg_func\u001b[0m\u001b[1;33m)\u001b[0m\u001b[1;33m\u001b[0m\u001b[1;33m\u001b[0m\u001b[0m\n\u001b[0;32m    156\u001b[0m \u001b[1;33m\u001b[0m\u001b[0m\n",
      "\u001b[1;31mTypeError\u001b[0m: nconv_tmbsc_lm1_evn() got multiple values for argument 'intg_func'"
     ]
    }
   ],
   "source": [
    "QUAD_BSCS = timed_bscs(*simargs, method=intg.quad)"
   ]
  },
  {
   "cell_type": "markdown",
   "metadata": {},
   "source": [
    "<font color=red> $\\texttt{scipy.integrate.quadrature}$: adaptative quadrature </font>"
   ]
  },
  {
   "cell_type": "code",
   "execution_count": 24,
   "metadata": {},
   "outputs": [
    {
     "name": "stdout",
     "output_type": "stream",
     "text": [
      ">>  250 BSCs in evaluation...\n",
      "> Evaluating bscs ...\n"
     ]
    },
    {
     "ename": "TypeError",
     "evalue": "nconv_tmbsc_lm1_evn() got multiple values for argument 'intg_func'",
     "output_type": "error",
     "traceback": [
      "\u001b[1;31m---------------------------------------------------------------------------\u001b[0m",
      "\u001b[1;31mTypeError\u001b[0m                                 Traceback (most recent call last)",
      "\u001b[1;32m<ipython-input-24-6a0fce43f595>\u001b[0m in \u001b[0;36m<module>\u001b[1;34m\u001b[0m\n\u001b[1;32m----> 1\u001b[1;33m \u001b[0mQUADRATURE_BSCS\u001b[0m \u001b[1;33m=\u001b[0m \u001b[0mtimed_bscs\u001b[0m\u001b[1;33m(\u001b[0m\u001b[1;33m*\u001b[0m\u001b[0msimargs\u001b[0m\u001b[1;33m,\u001b[0m \u001b[0mmethod\u001b[0m\u001b[1;33m=\u001b[0m\u001b[0mintg\u001b[0m\u001b[1;33m.\u001b[0m\u001b[0mquadrature\u001b[0m\u001b[1;33m)\u001b[0m\u001b[1;33m\u001b[0m\u001b[1;33m\u001b[0m\u001b[0m\n\u001b[0m",
      "\u001b[1;32m<ipython-input-17-172ced350a0a>\u001b[0m in \u001b[0;36mtimed_bscs\u001b[1;34m(nmax, m, l, method, plot, dps, lgbeam, nmin)\u001b[0m\n\u001b[0;32m     16\u001b[0m \u001b[1;33m\u001b[0m\u001b[0m\n\u001b[0;32m     17\u001b[0m     \u001b[0mprint\u001b[0m\u001b[1;33m(\u001b[0m\u001b[1;34m\">> \"\u001b[0m\u001b[1;33m,\u001b[0m \u001b[0mlen\u001b[0m\u001b[1;33m(\u001b[0m\u001b[0mns\u001b[0m\u001b[1;33m)\u001b[0m\u001b[1;33m,\u001b[0m \u001b[1;34m\"BSCs in evaluation...\"\u001b[0m\u001b[1;33m)\u001b[0m\u001b[1;33m\u001b[0m\u001b[1;33m\u001b[0m\u001b[0m\n\u001b[1;32m---> 18\u001b[1;33m     \u001b[0mgs\u001b[0m \u001b[1;33m=\u001b[0m \u001b[0mbscs\u001b[0m\u001b[1;33m(\u001b[0m\u001b[1;33m)\u001b[0m\u001b[1;33m\u001b[0m\u001b[1;33m\u001b[0m\u001b[0m\n\u001b[0m\u001b[0;32m     19\u001b[0m     \u001b[1;32mif\u001b[0m \u001b[0mplot\u001b[0m\u001b[1;33m:\u001b[0m\u001b[1;33m\u001b[0m\u001b[1;33m\u001b[0m\u001b[0m\n\u001b[0;32m     20\u001b[0m         \u001b[0mplt\u001b[0m\u001b[1;33m.\u001b[0m\u001b[0mplot\u001b[0m\u001b[1;33m(\u001b[0m\u001b[0mns\u001b[0m\u001b[1;33m,\u001b[0m \u001b[0mgs\u001b[0m\u001b[1;33m)\u001b[0m\u001b[1;33m\u001b[0m\u001b[1;33m\u001b[0m\u001b[0m\n",
      "\u001b[1;32m<ipython-input-16-7b1e65c3a788>\u001b[0m in \u001b[0;36mtimed_func\u001b[1;34m(*args, **kwargs)\u001b[0m\n\u001b[0;32m      4\u001b[0m         \u001b[0mprint\u001b[0m\u001b[1;33m(\u001b[0m\u001b[1;34m\"> Evaluating\"\u001b[0m\u001b[1;33m,\u001b[0m \u001b[0mfunc\u001b[0m\u001b[1;33m.\u001b[0m\u001b[0m__name__\u001b[0m\u001b[1;33m,\u001b[0m \u001b[1;34m\"...\"\u001b[0m\u001b[1;33m)\u001b[0m\u001b[1;33m\u001b[0m\u001b[1;33m\u001b[0m\u001b[0m\n\u001b[0;32m      5\u001b[0m         \u001b[0mstart\u001b[0m \u001b[1;33m=\u001b[0m \u001b[0mtime\u001b[0m\u001b[1;33m.\u001b[0m\u001b[0mtime\u001b[0m\u001b[1;33m(\u001b[0m\u001b[1;33m)\u001b[0m\u001b[1;33m\u001b[0m\u001b[1;33m\u001b[0m\u001b[0m\n\u001b[1;32m----> 6\u001b[1;33m         \u001b[0mval\u001b[0m \u001b[1;33m=\u001b[0m \u001b[0mfunc\u001b[0m\u001b[1;33m(\u001b[0m\u001b[1;33m*\u001b[0m\u001b[0margs\u001b[0m\u001b[1;33m,\u001b[0m \u001b[1;33m**\u001b[0m\u001b[0mkwargs\u001b[0m\u001b[1;33m)\u001b[0m\u001b[1;33m\u001b[0m\u001b[1;33m\u001b[0m\u001b[0m\n\u001b[0m\u001b[0;32m      7\u001b[0m         \u001b[0mfinish\u001b[0m \u001b[1;33m=\u001b[0m \u001b[0mtime\u001b[0m\u001b[1;33m.\u001b[0m\u001b[0mtime\u001b[0m\u001b[1;33m(\u001b[0m\u001b[1;33m)\u001b[0m\u001b[1;33m\u001b[0m\u001b[1;33m\u001b[0m\u001b[0m\n\u001b[0;32m      8\u001b[0m         \u001b[0mprint\u001b[0m\u001b[1;33m(\u001b[0m\u001b[1;34m\">\"\u001b[0m\u001b[1;33m,\u001b[0m \u001b[0mfunc\u001b[0m\u001b[1;33m.\u001b[0m\u001b[0m__name__\u001b[0m\u001b[1;33m,\u001b[0m \u001b[1;34m\"evaluated in\"\u001b[0m\u001b[1;33m,\u001b[0m \u001b[0mfinish\u001b[0m \u001b[1;33m-\u001b[0m \u001b[0mstart\u001b[0m\u001b[1;33m,\u001b[0m \u001b[1;34m\"seconds.\"\u001b[0m\u001b[1;33m)\u001b[0m\u001b[1;33m\u001b[0m\u001b[1;33m\u001b[0m\u001b[0m\n",
      "\u001b[1;32m<ipython-input-17-172ced350a0a>\u001b[0m in \u001b[0;36mbscs\u001b[1;34m()\u001b[0m\n\u001b[0;32m     12\u001b[0m         \u001b[1;32mwith\u001b[0m \u001b[0mmpmath\u001b[0m\u001b[1;33m.\u001b[0m\u001b[0mworkdps\u001b[0m\u001b[1;33m(\u001b[0m\u001b[0mdps\u001b[0m\u001b[1;33m)\u001b[0m\u001b[1;33m:\u001b[0m\u001b[1;33m\u001b[0m\u001b[1;33m\u001b[0m\u001b[0m\n\u001b[0;32m     13\u001b[0m             \u001b[1;32mfor\u001b[0m \u001b[0mn\u001b[0m \u001b[1;32min\u001b[0m \u001b[0mns\u001b[0m\u001b[1;33m:\u001b[0m\u001b[1;33m\u001b[0m\u001b[1;33m\u001b[0m\u001b[0m\n\u001b[1;32m---> 14\u001b[1;33m                 \u001b[0mgs\u001b[0m\u001b[1;33m.\u001b[0m\u001b[0mappend\u001b[0m\u001b[1;33m(\u001b[0m\u001b[0mmpmath\u001b[0m\u001b[1;33m.\u001b[0m\u001b[0mnorm\u001b[0m\u001b[1;33m(\u001b[0m\u001b[0mlgbeam\u001b[0m\u001b[1;33m.\u001b[0m\u001b[0mtmbsc_lm1\u001b[0m\u001b[1;33m(\u001b[0m\u001b[0mn\u001b[0m\u001b[1;33m,\u001b[0m \u001b[0mintg_func\u001b[0m\u001b[1;33m=\u001b[0m\u001b[0mmethod\u001b[0m\u001b[1;33m)\u001b[0m\u001b[1;33m)\u001b[0m\u001b[1;33m)\u001b[0m\u001b[1;33m\u001b[0m\u001b[1;33m\u001b[0m\u001b[0m\n\u001b[0m\u001b[0;32m     15\u001b[0m         \u001b[1;32mreturn\u001b[0m \u001b[0mgs\u001b[0m\u001b[1;33m\u001b[0m\u001b[1;33m\u001b[0m\u001b[0m\n\u001b[0;32m     16\u001b[0m \u001b[1;33m\u001b[0m\u001b[0m\n",
      "\u001b[1;32m<ipython-input-15-18e4fd223e43>\u001b[0m in \u001b[0;36mtmbsc_lm1\u001b[1;34m(self, n, intg_func)\u001b[0m\n\u001b[0;32m    188\u001b[0m         \u001b[1;32mwith\u001b[0m \u001b[0mmpmath\u001b[0m\u001b[1;33m.\u001b[0m\u001b[0mworkdps\u001b[0m\u001b[1;33m(\u001b[0m\u001b[0mintegrationdps\u001b[0m\u001b[1;33m)\u001b[0m\u001b[1;33m:\u001b[0m\u001b[1;33m\u001b[0m\u001b[1;33m\u001b[0m\u001b[0m\n\u001b[0;32m    189\u001b[0m             \u001b[1;32mreturn\u001b[0m \u001b[1;33m(\u001b[0m\u001b[1;33m-\u001b[0m\u001b[1;36m1\u001b[0m\u001b[1;33m)\u001b[0m \u001b[1;33m**\u001b[0m \u001b[1;33m(\u001b[0m\u001b[0mn\u001b[0m \u001b[1;33m+\u001b[0m \u001b[1;36m1\u001b[0m\u001b[1;33m)\u001b[0m\u001b[0;31m \u001b[0m\u001b[0;31m\\\u001b[0m\u001b[1;33m\u001b[0m\u001b[1;33m\u001b[0m\u001b[0m\n\u001b[1;32m--> 190\u001b[1;33m                  \u001b[1;33m*\u001b[0m \u001b[0mmpmath\u001b[0m\u001b[1;33m.\u001b[0m\u001b[0mconj\u001b[0m\u001b[1;33m(\u001b[0m\u001b[0mself\u001b[0m\u001b[1;33m.\u001b[0m\u001b[0mnconv_tmbsc_lm1\u001b[0m\u001b[1;33m(\u001b[0m\u001b[0mn\u001b[0m\u001b[1;33m,\u001b[0m \u001b[0mintg_func\u001b[0m\u001b[1;33m=\u001b[0m\u001b[0mintg_func\u001b[0m\u001b[1;33m)\u001b[0m\u001b[1;33m)\u001b[0m\u001b[1;33m\u001b[0m\u001b[1;33m\u001b[0m\u001b[0m\n\u001b[0m",
      "\u001b[1;32m<ipython-input-15-18e4fd223e43>\u001b[0m in \u001b[0;36mnconv_tmbsc_lm1\u001b[1;34m(self, n, intg_func)\u001b[0m\n\u001b[0;32m    152\u001b[0m     \u001b[1;32mdef\u001b[0m \u001b[0mnconv_tmbsc_lm1\u001b[0m\u001b[1;33m(\u001b[0m\u001b[0mself\u001b[0m\u001b[1;33m,\u001b[0m \u001b[0mn\u001b[0m\u001b[1;33m,\u001b[0m \u001b[0mintg_func\u001b[0m\u001b[1;33m=\u001b[0m\u001b[0mintg\u001b[0m\u001b[1;33m.\u001b[0m\u001b[0mquad\u001b[0m\u001b[1;33m)\u001b[0m\u001b[1;33m:\u001b[0m\u001b[1;33m\u001b[0m\u001b[1;33m\u001b[0m\u001b[0m\n\u001b[0;32m    153\u001b[0m         \u001b[1;32mif\u001b[0m \u001b[1;33m(\u001b[0m\u001b[0mn\u001b[0m \u001b[1;33m-\u001b[0m \u001b[0mself\u001b[0m\u001b[1;33m.\u001b[0m\u001b[0ml\u001b[0m\u001b[1;33m)\u001b[0m \u001b[1;33m%\u001b[0m \u001b[1;36m2\u001b[0m\u001b[1;33m:\u001b[0m\u001b[1;33m\u001b[0m\u001b[1;33m\u001b[0m\u001b[0m\n\u001b[1;32m--> 154\u001b[1;33m             \u001b[1;32mreturn\u001b[0m \u001b[0mself\u001b[0m\u001b[1;33m.\u001b[0m\u001b[0mnconv_tmbsc_lm1_evn\u001b[0m\u001b[1;33m(\u001b[0m\u001b[0mself\u001b[0m\u001b[1;33m,\u001b[0m \u001b[0mn\u001b[0m\u001b[1;33m,\u001b[0m \u001b[0mintg_func\u001b[0m\u001b[1;33m=\u001b[0m\u001b[0mintg_func\u001b[0m\u001b[1;33m)\u001b[0m\u001b[1;33m\u001b[0m\u001b[1;33m\u001b[0m\u001b[0m\n\u001b[0m\u001b[0;32m    155\u001b[0m         \u001b[1;32mreturn\u001b[0m \u001b[0mself\u001b[0m\u001b[1;33m.\u001b[0m\u001b[0mnconv_tmbsc_lm1_odd\u001b[0m\u001b[1;33m(\u001b[0m\u001b[0mself\u001b[0m\u001b[1;33m,\u001b[0m \u001b[0mn\u001b[0m\u001b[1;33m,\u001b[0m \u001b[0mintg_func\u001b[0m\u001b[1;33m=\u001b[0m\u001b[0mintg_func\u001b[0m\u001b[1;33m)\u001b[0m\u001b[1;33m\u001b[0m\u001b[1;33m\u001b[0m\u001b[0m\n\u001b[0;32m    156\u001b[0m \u001b[1;33m\u001b[0m\u001b[0m\n",
      "\u001b[1;31mTypeError\u001b[0m: nconv_tmbsc_lm1_evn() got multiple values for argument 'intg_func'"
     ]
    }
   ],
   "source": [
    "QUADRATURE_BSCS = timed_bscs(*simargs, method=intg.quadrature)"
   ]
  },
  {
   "cell_type": "markdown",
   "metadata": {},
   "source": [
    "<font color=red> $\\texttt{scipy.integrate.romberg}$: Romberg quadrature </font>"
   ]
  },
  {
   "cell_type": "code",
   "execution_count": 13,
   "metadata": {},
   "outputs": [
    {
     "name": "stdout",
     "output_type": "stream",
     "text": [
      ">>  250 BSCs in evaluation...\n",
      "> Evaluating bscs ...\n",
      "> bscs evaluated in 2.9113540649414062 seconds.\n"
     ]
    },
    {
     "data": {
      "image/png": "[encoded data removed]",
      "text/plain": [
       "<Figure size 432x288 with 1 Axes>"
      ]
     },
     "metadata": {
      "needs_background": "light"
     },
     "output_type": "display_data"
    }
   ],
   "source": [
    "ROMBERG_BSCS = timed_bscs(*simargs, method=intg.romberg)"
   ]
  },
  {
   "cell_type": "markdown",
   "metadata": {},
   "source": [
    "<font color=gray> There also is $\\texttt{scipy.integrate.simps}$ to test, but it requires sampled data which is to be worked on later. </font>"
   ]
  },
  {
   "cell_type": "code",
   "execution_count": 14,
   "metadata": {},
   "outputs": [
    {
     "name": "stdout",
     "output_type": "stream",
     "text": [
      "Values of n computed from 1 to 499\n"
     ]
    },
    {
     "data": {
      "image/png": "[encoded data removed]",
      "text/plain": [
       "<Figure size 432x288 with 1 Axes>"
      ]
     },
     "metadata": {
      "needs_background": "light"
     },
     "output_type": "display_data"
    }
   ],
   "source": [
    "bsclsts = {\n",
    "    \"mpmath.quad\": MPMATH_BSCS,\n",
    "    \"scipy.integrate.quad\": QUAD_BSCS,\n",
    "    \"scipy.integrate.quadrature\": QUADRATURE_BSCS,\n",
    "    \"scipy.integrate.romberg\": ROMBERG_BSCS\n",
    "}\n",
    "linestyles = {}\n",
    "l0 = 3.5\n",
    "stls = ['-', '--', '-.', ':']\n",
    "for ind, key in enumerate(bsclsts):\n",
    "    linestyles[key] = {\n",
    "        \"linewidth\": l0,\n",
    "        \"linestyle\": stls[ind % len(stls)]\n",
    "    }\n",
    "    l0 = l0 - .5\n",
    "    \n",
    "nmin = m\n",
    "ns = np.arange(nmin, nmax + 1, 2)\n",
    "print(\"Values of n computed from\", ns[0], \"to\", ns[-1])\n",
    "plt.grid()\n",
    "for name, lst in bsclsts.items():\n",
    "    plt.plot(ns, lst, label=name, alpha=.75, **linestyles[name])\n",
    "plt.legend()\n",
    "plt.xlabel(\"n\")\n",
    "plt.ylabel(\"$\\\\left|g_{n, TM}^{l - 1}(N)\\\\right|$\")\n",
    "plt.ylim(top=4E15, bottom=0)\n",
    "plt.show()"
   ]
  },
  {
   "cell_type": "markdown",
   "metadata": {},
   "source": [
    "In sum, we have se following status for now (color code: <font color=green>tested as acceptable</font>, <font color=blue>seems acceptable</font>, <font color=red>pleasehelp</font>):\n",
    " - <font color=blue> $\\texttt{mpmath.quad}$ </font> _(with suboptimal performance, maybe)_\n",
    " - <font color=red> $\\texttt{scipy.integrate.quad}$</font> _(even though results <font color=blue>seem to hold</font> for $n < n_{problem}\\approx 150$)_\n",
    " - <font color=red> $\\texttt{scipy.integrate.quadrature}$ </font>\n",
    " - <font color=red> $\\texttt{scipy.integrate.romberg}$ </font>"
   ]
  },
  {
   "cell_type": "markdown",
   "metadata": {},
   "source": [
    "### Thought process:"
   ]
  },
  {
   "cell_type": "markdown",
   "metadata": {},
   "source": [
    "We need the following function represented by $\\texttt{gammaprod}$ in the $\\texttt{mpmath}$ package:\n",
    "\n",
    "$$ \\texttt{gammaprod}(\\textbf{u}, \\textbf{v})  = \\frac{\\Gamma(u_1) \\cdot \\Gamma(u_2) \\cdot\\ldots\\cdot \\Gamma(u_n)}{\\Gamma(v_1) \\cdot \\Gamma(v_2) \\cdot\\ldots\\cdot \\Gamma(v_m)}$$\n",
    "\n",
    "For more info see <a href=\"http://mpmath.org/doc/current/functions/gamma.html#gammaprod\">entry</a> in $\\texttt{mpmath}$ documentation."
   ]
  },
  {
   "cell_type": "markdown",
   "metadata": {},
   "source": [
    "Also note that here we will compute harmonic modes in the $N$-convention, meaning we must not forget to convert the BSCs to the $P$-convention via:\n",
    "\n",
    "$$g_{n, TX}^m (P) = (-1)^{n + 1} g_{n, TX}^{-m} (N)^*.$$"
   ]
  },
  {
   "cell_type": "code",
   "execution_count": 15,
   "metadata": {},
   "outputs": [],
   "source": [
    "# N-convention _ TM LFLG BSC _ m = l - 1 finite series\n",
    "def nconv_tmlflgbsc_lm1fs(n, m, **parameters):\n",
    "    pass\n",
    "\n",
    "# [P-convention _] TM LFLG BSC _ m = l - 1 finite series\n",
    "def tmlflgbsc_lm1fs(n, m, **parameters):\n",
    "    return (-1 ** (n + 1)) * nconv_tmlflgbsc_lm1fs(n, -m, **parameters)"
   ]
  },
  {
   "cell_type": "markdown",
   "metadata": {},
   "source": [
    "#### Case (ii): $m = l - 1, l > 0$\n",
    "$$    \\left[ g_{n, TM}^{l-1}(N) \\right]_p = i^n \\frac{\\sqrt{\\pi}}{2^{l}} (-1)^{\\frac{n - l + 1}{2}} \\frac{\\Gamma\\left( \\frac{n - l + 3}{2} \\right)}{\\Gamma\\left( \\frac{n + l}{2} \\right)}\n",
    "    \\sum_{q=0}^{\\leq n / 2} 2^{\\frac{1}{2}+n - 2q} \\frac{\\Gamma\\left(\\frac{1}{2}+n-q\\right)}{q!} \\left[ b_{n-2q} \\right]_p$$"
   ]
  },
  {
   "cell_type": "markdown",
   "metadata": {},
   "source": [
    "## Problem solving"
   ]
  },
  {
   "cell_type": "markdown",
   "metadata": {},
   "source": [
    "Something happened in different methods of integration. Let's find out:"
   ]
  },
  {
   "cell_type": "markdown",
   "metadata": {},
   "source": [
    "$$ a(\\eta) = \\sqrt{2}\\frac{R_f}{kw_0} \\eta = \\sqrt{2} R_f s \\eta $$ <br>\n",
    "$$ A_{l0}^j= \\int_0^{k\\text{NA}} \\frac{\\eta^{|l| + 1}}{(k^2 - \\eta^2)^{\\frac{1}{4}}} \\exp\\left( -\\frac{a(\\eta)^2}{2} \\right) \\left( 1 + \\frac{\\sqrt{k^2 - \\eta^2}}{k} \\right) \\left( \\frac{\\eta}{k} \\right)^{j - 1} \\text{d}\\eta $$ <br>\n",
    "$$ A_{lp}^j= \\int_0^{k\\text{NA}} \\frac{\\eta^{|l| + 1}}{(k^2 - \\eta^2)^{\\frac{1}{4}}} a(\\eta)^2 L_{p-1}^l\\left(a(\\eta)^2\\right) \\exp\\left( -\\frac{a(\\eta)^2}{2} \\right) \\left( 1 + \\frac{\\sqrt{k^2 - \\eta^2}}{k} \\right) \\left( \\frac{\\eta}{k} \\right)^{j - 1} \\text{d}\\eta $$"
   ]
  },
  {
   "cell_type": "code",
   "execution_count": 16,
   "metadata": {},
   "outputs": [
    {
     "data": {
      "text/plain": [
       "mpf('0.000066820351589785206390909357468025590338791176126779937')"
      ]
     },
     "execution_count": 16,
     "metadata": {},
     "output_type": "execute_result"
    }
   ],
   "source": [
    "def a(eta):\n",
    "    return mpmath.sqrt(2) * r_focus / k / w0 * eta\n",
    "a(na)"
   ]
  },
  {
   "cell_type": "code",
   "execution_count": 17,
   "metadata": {},
   "outputs": [],
   "source": [
    "def integrand(eta, l, p, j, kind='A'):\n",
    "    pm = 1 if kind == 'A' else -1\n",
    "    laguerre_term = 1\n",
    "    if p > 0:\n",
    "        laguerre_term = a(eta) ** 2 * mpmath.laguerre(p - 1, l, a(eta) ** 2)\n",
    "        \n",
    "    return ( mpmath.power(eta, np.abs(l) + 1) / mpmath.power(k ** 2 - eta ** 2, .25) \\\n",
    "           * laguerre_term * mpmath.exp(-(a(eta) ** 2 / 2 )) \\\n",
    "           * (1 + pm * mpmath.sqrt(k ** 2 - eta ** 2) / k) \\\n",
    "           * mpmath.power(eta / k, j - 1) )"
   ]
  },
  {
   "cell_type": "code",
   "execution_count": 18,
   "metadata": {},
   "outputs": [],
   "source": [
    "def eval_integral(l, p, j, kind='A', delta=1, method=mpmath.quad):\n",
    "    def argument(eta):\n",
    "        return integrand(eta, l, p, j, kind=kind)\n",
    "    npintg = np.frompyfunc(argument, 1, 1)\n",
    "    if method is mpmath.quad:\n",
    "        return mpmath.quad( argument, [0, k * na * delta] )\n",
    "    if method is intg.quad:\n",
    "        return intg.quad( argument, 0, k * na * delta )"
   ]
  },
  {
   "cell_type": "code",
   "execution_count": 19,
   "metadata": {},
   "outputs": [],
   "source": [
    "def integral_performance(nmin=m, nmax=nmax, method=mpmath.quad):\n",
    "    aquad_lst = []\n",
    "    bquad_lst = []\n",
    "    ns = np.arange(nmin, nmax + 1, 2)\n",
    "    stt = time.time()\n",
    "    fig, axes = plt.subplots(ncols=2)\n",
    "    print(\"Evaluating\", method.__module__, method.__name__, \"for\", len(ns), \"values... (twice)\")\n",
    "    for j in ns:\n",
    "        aquad_lst.append( mpmath.norm(eval_integral(l, p, j, method=method, kind='A')) )\n",
    "        bquad_lst.append( mpmath.norm(eval_integral(l, p, j, method=method, kind='B')) )\n",
    "    fin = time.time()\n",
    "    axes[0].plot(ns, aquad_lst)\n",
    "    axes[1].plot(ns, bquad_lst)\n",
    "    plt.grid()\n",
    "    plt.show()\n",
    "    print(\". Evaluated\", method.__module__, method.__name__, \"in\", (fin - stt), \"seconds.\")\n",
    "    return aquad_lst, bquad_lst"
   ]
  },
  {
   "cell_type": "code",
   "execution_count": 20,
   "metadata": {},
   "outputs": [
    {
     "name": "stdout",
     "output_type": "stream",
     "text": [
      "Evaluating mpmath.calculus.quadrature quad for 250 values... (twice)\n"
     ]
    },
    {
     "data": {
      "image/png": "[encoded data removed]",
      "text/plain": [
       "<Figure size 432x288 with 2 Axes>"
      ]
     },
     "metadata": {
      "needs_background": "light"
     },
     "output_type": "display_data"
    },
    {
     "name": "stdout",
     "output_type": "stream",
     "text": [
      ". Evaluated mpmath.calculus.quadrature quad in 12.934394121170044 seconds.\n"
     ]
    }
   ],
   "source": [
    "mpmathint = integral_performance(method=mpmath.quad)"
   ]
  },
  {
   "cell_type": "code",
   "execution_count": 21,
   "metadata": {},
   "outputs": [
    {
     "name": "stdout",
     "output_type": "stream",
     "text": [
      "Evaluating scipy.integrate.quadpack quad for 250 values... (twice)\n"
     ]
    },
    {
     "data": {
      "image/png": "[encoded data removed]",
      "text/plain": [
       "<Figure size 432x288 with 2 Axes>"
      ]
     },
     "metadata": {
      "needs_background": "light"
     },
     "output_type": "display_data"
    },
    {
     "name": "stdout",
     "output_type": "stream",
     "text": [
      ". Evaluated scipy.integrate.quadpack quad in 5.20099663734436 seconds.\n"
     ]
    }
   ],
   "source": [
    "quadint = integral_performance(method=intg.quad)"
   ]
  },
  {
   "cell_type": "code",
   "execution_count": 22,
   "metadata": {},
   "outputs": [
    {
     "data": {
      "image/png": "[encoded data removed]",
      "text/plain": [
       "<Figure size 432x288 with 1 Axes>"
      ]
     },
     "metadata": {
      "needs_background": "light"
     },
     "output_type": "display_data"
    }
   ],
   "source": [
    "difs = []\n",
    "for i, v in enumerate(mpmathint):\n",
    "    difs.append(np.abs(mpmathint[0][i] - quadint[0][i]) ** 2)\n",
    "plt.plot(difs)\n",
    "plt.grid()\n",
    "plt.show()"
   ]
  },
  {
   "cell_type": "markdown",
   "metadata": {},
   "source": [
    "From what I see here, $\\texttt{scipy.integrate.quad}$ might not have to explode as seen in the cells above only because of the integration. This could be one of two cases:<br>\n",
    " - The ever-so-slight differences in results the cell directly above show become very significant somewhere down the line as error propagates, or\n",
    " - We have somehow results shown in smaller precision in the $\\texttt{scipy.integrate.quad}$ case."
   ]
  },
  {
   "cell_type": "markdown",
   "metadata": {},
   "source": [
    "### Doodles"
   ]
  },
  {
   "cell_type": "markdown",
   "metadata": {},
   "source": [
    "Trying to figure out some stuff about decorators..."
   ]
  },
  {
   "cell_type": "code",
   "execution_count": 23,
   "metadata": {},
   "outputs": [],
   "source": [
    "def zero(*args, **kwargs):\n",
    "    return 0\n",
    "def epsilonized(inname, outname):\n",
    "\n",
    "    def find_arg_with_name(name, arglist, func_args=[], func_kwargs={}):\n",
    "        value = fkwargs.get(name)\n",
    "        if value is None:\n",
    "            return func_args[arglist.index(name)]\n",
    "        return value\n",
    "\n",
    "    def decorator_eps(func):\n",
    "        def epsilonized_func(*args, **kwargs):\n",
    "            j = find_arg_with_name(\n",
    "                inname, inspect.getfullargspec(func),\n",
    "                func_args=args, func_kwargs=kwargs\n",
    "            )\n",
    "            if j in A:\n",
    "                value = 0\n",
    "            else:\n",
    "                value = func(*args, **kwargs)\n",
    "            return value\n",
    "        return epsilonized_func\n",
    "    return decorator_eps"
   ]
  },
  {
   "cell_type": "markdown",
   "metadata": {},
   "source": [
    "Quadrature integration from $\\texttt{scipy.integrate}$"
   ]
  },
  {
   "cell_type": "code",
   "execution_count": 24,
   "metadata": {},
   "outputs": [
    {
     "data": {
      "text/plain": [
       "(1.5, 1.6653345369377348e-14)"
      ]
     },
     "execution_count": 24,
     "metadata": {},
     "output_type": "execute_result"
    }
   ],
   "source": [
    "def foo(x, a, b=0):\n",
    "    return a * x + b\n",
    "\n",
    "intg.quad(foo, 0, 1, args=(1, 1)) # args are processed in order; even kwargs"
   ]
  },
  {
   "cell_type": "code",
   "execution_count": 25,
   "metadata": {},
   "outputs": [
    {
     "name": "stdout",
     "output_type": "stream",
     "text": [
      "dict_items([(1, 2), (3, 4)])\n",
      "<enumerate object at 0x00BA0C60>\n",
      "(0, 1)\n",
      "(1, 3)\n"
     ]
    }
   ],
   "source": [
    "d = {1: 2, 3: 4}\n",
    "tuples = d.items()\n",
    "print(tuples)\n",
    "\n",
    "print(enumerate(d))\n",
    "for i in enumerate(d):\n",
    "    print(i)"
   ]
  },
  {
   "cell_type": "code",
   "execution_count": 26,
   "metadata": {},
   "outputs": [
    {
     "data": {
      "text/plain": [
       "dict_items([(1, 2)])"
      ]
     },
     "execution_count": 26,
     "metadata": {},
     "output_type": "execute_result"
    }
   ],
   "source": [
    "kw = {1: 2}\n",
    "kw.items()"
   ]
  },
  {
   "cell_type": "code",
   "execution_count": 27,
   "metadata": {},
   "outputs": [
    {
     "data": {
      "text/plain": [
       "mpf('2.0')"
      ]
     },
     "execution_count": 27,
     "metadata": {},
     "output_type": "execute_result"
    }
   ],
   "source": [
    "def foo(x, a, b=0):\n",
    "    return a * x + b\n",
    "\n",
    "def bar(x):\n",
    "    return foo(x, 2, b=1)\n",
    "\n",
    "mpmath.quad(bar, [0, 1])"
   ]
  },
  {
   "cell_type": "code",
   "execution_count": 28,
   "metadata": {},
   "outputs": [
    {
     "name": "stdout",
     "output_type": "stream",
     "text": [
      "> Evaluating timed_foo ...\n",
      "> timed_foo evaluated in 1.001002311706543 seconds.\n"
     ]
    },
    {
     "data": {
      "text/plain": [
       "1"
      ]
     },
     "execution_count": 28,
     "metadata": {},
     "output_type": "execute_result"
    }
   ],
   "source": [
    "# Testing the \"timed\" decorator\n",
    "@timed\n",
    "def timed_foo(x):\n",
    "    for _ in range(x):\n",
    "        time.sleep(1)\n",
    "\n",
    "timed_foo(1)\n",
    "\n",
    "m"
   ]
  },
  {
   "cell_type": "code",
   "execution_count": 29,
   "metadata": {},
   "outputs": [],
   "source": [
    "MPMATH_BSCS = QUADRATURE_BSCS = ROMBERG_BSCS = [0 for n in ns]"
   ]
  },
  {
   "cell_type": "code",
   "execution_count": 30,
   "metadata": {},
   "outputs": [],
   "source": [
    "import pickle\n",
    "# n-m even BSCs to dict\n",
    "# tmbscdict = {(n = m + 2k, m): value of TM mode BSC}\n",
    "quaddict = {}\n",
    "i = m\n",
    "for bsc in CONTROL_BSCS:\n",
    "    quaddict[i, m] = bsc\n",
    "    i += 2\n",
    "with open(\"quad_dict.pickle\", \"wb\") as f:\n",
    "    pickle.dump(quaddict, f)"
   ]
  },
  {
   "cell_type": "markdown",
   "metadata": {},
   "source": [
    "Fun with $\\texttt{sympy}$"
   ]
  },
  {
   "cell_type": "code",
   "execution_count": 31,
   "metadata": {},
   "outputs": [],
   "source": [
    "import sympy as sym"
   ]
  },
  {
   "cell_type": "code",
   "execution_count": 32,
   "metadata": {},
   "outputs": [],
   "source": [
    "_l, _p, _k, _lambda, _w0, _k = sym.symbols('l, p, k, lambda, w0, k')\n",
    "_rf, _s = sym.symbols(\"R_f s\")\n",
    "_eta, _j = sym.symbols('eta j')\n",
    "_na = sym.symbols('\\\\text{NA}')\n",
    "class _a(sym.Function):\n",
    "    @classmethod\n",
    "    def eval(cls, x):\n",
    "        return _rf * sym.sqrt(2) / _k / _w0 * x"
   ]
  },
  {
   "cell_type": "code",
   "execution_count": 33,
   "metadata": {},
   "outputs": [],
   "source": [
    "def express(a, b, name):\n",
    "    symb = sym.symbols(name)\n",
    "    sol = sym.solve(a - symb, b)\n",
    "    return (symb, sol[0])"
   ]
  },
  {
   "cell_type": "code",
   "execution_count": 34,
   "metadata": {},
   "outputs": [
    {
     "data": {
      "text/latex": [
       "$\\displaystyle \\int\\limits_{0}^{\\text{NA} k} \\frac{\\eta^{\\left|{l}\\right| + 1} \\left(\\frac{\\eta}{k}\\right)^{j - 1} \\left(1 + \\frac{\\sqrt{- \\eta^{2} + k^{2}}}{k}\\right) e^{- \\frac{R_{f}^{2} \\eta^{2}}{k^{2} w_{0}^{2}}}}{\\sqrt[4]{- \\eta^{2} + k^{2}}}\\, d\\eta$"
      ],
      "text/plain": [
       "Integral(eta**(Abs(l) + 1)*(eta/k)**(j - 1)*(1 + sqrt(-eta**2 + k**2)/k)*exp(-R_f**2*eta**2/(k**2*w0**2))/(-eta**2 + k**2)**(1/4), (eta, 0, \\text{NA}*k))"
      ]
     },
     "execution_count": 34,
     "metadata": {},
     "output_type": "execute_result"
    }
   ],
   "source": [
    "A = sym.Integral(\n",
    "    ( _eta ** (sym.Abs(_l) + 1) / (_k ** 2 - _eta ** 2) ** sym.Rational(1, 4) \\\n",
    "    * sym.exp(-_a(_eta) ** 2 / 2) \\\n",
    "    * (1 + sym.sqrt(_k ** 2 - _eta ** 2) / _k) \\\n",
    "    * (_eta / _k) ** (_j - 1)),\n",
    "    (_eta, 0, _k * _na)\n",
    ")\n",
    "af = sym.Function('a')\n",
    "A.subs(_a(_eta), af(_eta))"
   ]
  },
  {
   "cell_type": "code",
   "execution_count": 35,
   "metadata": {},
   "outputs": [
    {
     "data": {
      "text/latex": [
       "$\\displaystyle \\int\\limits_{0}^{\\text{NA} k} \\frac{\\eta^{\\left|{l}\\right| + 1} \\left(\\frac{\\eta}{k}\\right)^{j - 1} \\left(1 + \\frac{\\sqrt{- \\eta^{2} + k^{2}}}{k}\\right) e^{- \\frac{R_{f}^{2} \\eta^{2}}{k^{2} w_{0}^{2}}}}{\\sqrt[4]{- \\eta^{2} + k^{2}}}\\, d\\eta$"
      ],
      "text/plain": [
       "Integral(eta**(Abs(l) + 1)*(eta/k)**(j - 1)*(1 + sqrt(-eta**2 + k**2)/k)*exp(-R_f**2*eta**2/(k**2*w0**2))/(-eta**2 + k**2)**(1/4), (eta, 0, \\text{NA}*k))"
      ]
     },
     "execution_count": 35,
     "metadata": {},
     "output_type": "execute_result"
    }
   ],
   "source": [
    "A"
   ]
  },
  {
   "cell_type": "code",
   "execution_count": null,
   "metadata": {},
   "outputs": [],
   "source": [
    "lgbeam = LGBeamFS()\n",
    "m = l - 1\n",
    "ll = []\n",
    "ns = np.arange(1, 10)\n",
    "for n in ns:\n",
    "    ll.append(mpmath.norm(lgbeam.tmbsc_lm1(n)))\n",
    "plt.plot(ns, ll)\n",
    "plt.show()\n",
    "ll"
   ]
  },
  {
   "cell_type": "code",
   "execution_count": null,
   "metadata": {},
   "outputs": [],
   "source": []
  }
 ],
 "metadata": {
  "kernelspec": {
   "display_name": "Python 3",
   "language": "python",
   "name": "python3"
  },
  "language_info": {
   "codemirror_mode": {
    "name": "ipython",
    "version": 3
   },
   "file_extension": ".py",
   "mimetype": "text/x-python",
   "name": "python",
   "nbconvert_exporter": "python",
   "pygments_lexer": "ipython3",
   "version": "3.7.4"
  }
 },
 "nbformat": 4,
 "nbformat_minor": 2
}
