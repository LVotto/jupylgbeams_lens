{
 "cells": [
  {
   "cell_type": "markdown",
   "metadata": {},
   "source": [
    "## Lens-focused Laguerre-Gauss beam as per GLMT: <br></br>A Finite Series sketch"
   ]
  },
  {
   "cell_type": "code",
   "execution_count": 408,
   "metadata": {},
   "outputs": [],
   "source": [
    "# Imports\n",
    "import numpy as np               # Ye olde numpy\n",
    "import scipy.special as sp       # Special functions\n",
    "import matplotlib.pyplot as plt  # Plots results\n",
    "import mpmath                    # Arbitrary precision\n",
    "import scipy.integrate as intg   # Numerical integration\n",
    "\n",
    "import inspect                   # Maybe remove later (decorator things)"
   ]
  },
  {
   "cell_type": "code",
   "execution_count": 409,
   "metadata": {},
   "outputs": [],
   "source": [
    "# LFLG beam parameters:\n",
    "p, l = 0, 2\n",
    "alpha, beta = 1, 0\n",
    "r_focus = 1E-3\n",
    "wavelength = 6328E-9\n",
    "na = .95\n",
    "w0 = 3.2 * wavelength\n",
    "\n",
    "k = 2 * np.pi / wavelength\n",
    "s = 1 / k / w0\n",
    "\n",
    "parameters = {\n",
    "    \"p\": p,\n",
    "    \"l\": l,\n",
    "    \"alpha\": alpha,\n",
    "    \"beta\": beta,\n",
    "    \"r_focus\": r_focus,\n",
    "    \"wavelength\": wavelength,\n",
    "    \"na\": na,\n",
    "    \"w0\": w0,\n",
    "    \"delta\": 1,\n",
    "}"
   ]
  },
  {
   "cell_type": "code",
   "execution_count": 407,
   "metadata": {},
   "outputs": [],
   "source": [
    "# Memoization decorator\n",
    "def memoized(func):\n",
    "    CACHE = {}\n",
    "    def memoized_func(*args, **kwargs):\n",
    "        kwvals = [val for _, val in kwargs.items()]\n",
    "        if (*args, *kwvals) not in CACHE:\n",
    "            value = func(*args, **kwargs)\n",
    "            CACHE[(*args, *kwvals)] = value\n",
    "            return value\n",
    "        return CACHE[(*args, *kwvals)]\n",
    "    return memoized_func"
   ]
  },
  {
   "cell_type": "code",
   "execution_count": 404,
   "metadata": {},
   "outputs": [
    {
     "data": {
      "application/javascript": [
       "IPython.notebook.execute_cells_above()"
      ],
      "text/plain": [
       "<IPython.core.display.Javascript object>"
      ]
     },
     "metadata": {},
     "output_type": "display_data"
    },
    {
     "data": {
      "application/javascript": [
       "IPython.notebook.execute_cells_above()"
      ],
      "text/plain": [
       "<IPython.core.display.Javascript object>"
      ]
     },
     "metadata": {},
     "output_type": "display_data"
    },
    {
     "data": {
      "application/javascript": [
       "IPython.notebook.execute_cells_above()"
      ],
      "text/plain": [
       "<IPython.core.display.Javascript object>"
      ]
     },
     "metadata": {},
     "output_type": "display_data"
    }
   ],
   "source": [
    "from IPython.display import Javascript # some cool shenanigans\n",
    "display(Javascript('IPython.notebook.execute_cells_above()'))\n",
    "display(Javascript('IPython.notebook.execute_cells_above()'))\n",
    "\n",
    "class LGBeamFS:\n",
    "    def __init__(self, **kwargs):\n",
    "        self.__dict__.update(parameters)\n",
    "        self.__dict__.update(kwargs)\n",
    "        \n",
    "        self.k = 2 * np.pi / self.wavelength\n",
    "        self.s = 1 / self.k / self.w0\n",
    "        if 'delta' not in parameters and 'delta' not in kwargs:\n",
    "            self.delta = 1\n",
    "    \n",
    "    def a(self, eta):\n",
    "        return eta * self.r_focus * self.s * mpmath.sqrt(2)\n",
    "    \n",
    "    def lens_integrand(self, eta, n, p, kind='A'):\n",
    "        pm = 1 if kind == 'A' else -1\n",
    "        if p == 0:\n",
    "            lfactor = 1\n",
    "        elif p >= 1:\n",
    "            lfactor = mpmath.laguerre(p - 1, self.l, self.a(eta) ** 2) \\\n",
    "                    * self.a(eta) ** 2\n",
    "        else:\n",
    "            return 0\n",
    "        \n",
    "        res = mpmath.power(eta, np.abs(l + 1)) \\\n",
    "            / mpmath.power(self.k ** 2 - eta ** 2, .25) \\\n",
    "            * lfactor * mpmath.exp(-self.a(eta) ** 2 / 2) \\\n",
    "            * (1 + pm * mpmath.sqrt(self.k ** 2 - eta ** 2) / self.k) \\\n",
    "            * mpmath.power(eta / k, n - 1)\n",
    "        return res\n",
    "        \n",
    "        return res\n",
    "    \n",
    "    def F(self, j, u):\n",
    "        return (-1) ** ((j - u) / 2) \\\n",
    "             / mpmath.factorial((j - u) / 2) / mpmath.factorial((j + u) / 2)\n",
    "    \n",
    "    @memoized\n",
    "    def lens_integral(self, n, p, kind='A'):\n",
    "        max_eta = self.k * self.na * self.delta\n",
    "        return intg.quad(self.lens_integrand, 0, max_eta, args=(n, p, kind))[0]\n",
    "    \n",
    "    @memoized\n",
    "    def maclaurin(self, j, p):\n",
    "        lpart, rpart = 1, 1\n",
    "        premul = 1j * np.sqrt(2 / np.pi) * (self.alpha - 1j * self.beta) \\\n",
    "               / mpmath.power(2, j)\n",
    "        if j <= l:\n",
    "            lpart = 0\n",
    "            if j <= l - 2:\n",
    "                rpart = 0\n",
    "\n",
    "        if rpart != 0:\n",
    "            rpart = self.F(j - 1, self.l - 2) \\\n",
    "                  * self.lens_integral(j, p, kind='B')\n",
    "            if lpart != 0:\n",
    "                lpart = self.F(j - 1, self.l) \\\n",
    "                      * self.lens_integral(j, 0, kind='A')\n",
    "        if p == 1:\n",
    "            if rpart != 0:\n",
    "                rpart = self.F(j - 1, self.l - 2) \\\n",
    "                      * ((l + 1) * self.lens_integral(j, 0, kind='B') \\\n",
    "                        - self.lens_integral(j, 1, kind='B'))\n",
    "                if lpart != 0:\n",
    "                    lpart = self.F(j - 1, self.l) \\\n",
    "                          * ((l + 1) * self.lens_integral(j, 0, kind='A') \\\n",
    "                            - self.lens_integral(j, 1, kind='A'))\n",
    "        elif p != 0:\n",
    "            premul = premul / p\n",
    "            return ((2 * p - 1 + self.l) / p * self.maclaurin(j, p - 1) \\\n",
    "                    - (p - 1 + self.l) / p * self.maclaurin(j, p - 2) \\\n",
    "                    - premul * (lpart + rpart)\n",
    "                   )\n",
    "            \n",
    "        return premul * (lpart + rpart)\n",
    "    \n",
    "    def nconv_tmbsc_lm1(self, n):\n",
    "        premul = 1j ** n * (-1) ** ((n - self.l + 1) / 2) \\\n",
    "               * mpmath.power(2, n + 1.5 - self.l) * np.sqrt(np.pi) \\\n",
    "               / mpmath.gammaprod([(n - l + 3) / 2], [(n + l) / 2])\n",
    "    \n",
    "        fs = 0\n",
    "        q = 0\n",
    "        while q <= n / 2:\n",
    "            inc = mpmath.power(2, -2 * q) \\\n",
    "                * mpmath.gammaprod([.5 + n - q], [q + 1]) \\\n",
    "                * self.maclaurin(n - 2 * q, p)\n",
    "            q += 1\n",
    "        return premul * fs\n",
    "    \n",
    "    def tmbsc_lm1(self, n):\n",
    "        return (-1) ** (n + 1) * mpmath.conj(self.nconv_tmbsc_lm1(n))"
   ]
  },
  {
   "cell_type": "markdown",
   "metadata": {},
   "source": [
    "Test:"
   ]
  },
  {
   "cell_type": "code",
   "execution_count": 410,
   "metadata": {},
   "outputs": [
    {
     "name": "stdout",
     "output_type": "stream",
     "text": [
      "(0.0 + 0.0j)\n"
     ]
    }
   ],
   "source": [
    "lgbeam = LGBeamFS(**parameters)\n",
    "print(lgbeam.tmbsc_lm1(l + 3))"
   ]
  },
  {
   "cell_type": "markdown",
   "metadata": {},
   "source": [
    "### Thought process:"
   ]
  },
  {
   "cell_type": "markdown",
   "metadata": {},
   "source": [
    "We are need the following function represented by $\\texttt{gammaprod}$ in the $\\texttt{mpmath}$ package:\n",
    "\n",
    "$$ \\texttt{gammaprod}(\\textbf{u}, \\textbf{v})  = \\frac{\\Gamma(u_1) \\cdot \\Gamma(u_2) \\cdot\\ldots\\cdot \\Gamma(u_n)}{\\Gamma(v_1) \\cdot \\Gamma(v_2) \\cdot\\ldots\\cdot \\Gamma(v_m)}$$\n",
    "\n",
    "For more info see <a href=\"http://mpmath.org/doc/current/functions/gamma.html#gammaprod\">entry</a> in $\\texttt{mpmath}$ documentation."
   ]
  },
  {
   "cell_type": "markdown",
   "metadata": {},
   "source": [
    "Also note that here we will compute harmonic modes in the $N$-convention, meaning we must not forget to convert the BSCs to the $P$-convention via:\n",
    "\n",
    "$$g_{n, TX}^m (P) = (-1)^{n + 1} g_{n, TX}^{-m} (N)^*.$$"
   ]
  },
  {
   "cell_type": "code",
   "execution_count": 33,
   "metadata": {},
   "outputs": [],
   "source": [
    "# N-convention _ TM LFLG BSC _ m = l - 1 finite series\n",
    "def nconv_tmlflgbsc_lm1fs(n, m, **parameters):\n",
    "    pass\n",
    "\n",
    "# [P-convention _] TM LFLG BSC _ m = l - 1 finite series\n",
    "def tmlflgbsc_lm1fs(n, m, **parameters):\n",
    "    return (-1 ** (n + 1)) * nconv_tmlflgbsc_lm1fs(n, -m, **parameters)"
   ]
  },
  {
   "cell_type": "markdown",
   "metadata": {},
   "source": [
    "#### Case (ii): $m = l - 1, l > 0$\n",
    "$$    \\left[ g_{n, TM}^{l-1}(N) \\right]_p = i^n \\frac{\\sqrt{\\pi}}{2^{l}} (-1)^{\\frac{n - l + 1}{2}} \\frac{\\Gamma\\left( \\frac{n - l + 3}{2} \\right)}{\\Gamma\\left( \\frac{n + l}{2} \\right)}\n",
    "    \\sum_{q=0}^{\\leq n / 2} 2^{\\frac{1}{2}+n - 2q} \\frac{\\Gamma\\left(\\frac{1}{2}+n-q\\right)}{q!} \\left[ b_{n-2q} \\right]_p$$"
   ]
  },
  {
   "cell_type": "code",
   "execution_count": null,
   "metadata": {},
   "outputs": [],
   "source": []
  },
  {
   "cell_type": "markdown",
   "metadata": {},
   "source": [
    "### Doodles"
   ]
  },
  {
   "cell_type": "markdown",
   "metadata": {},
   "source": [
    "Trying to figure out some stuff about decorators..."
   ]
  },
  {
   "cell_type": "code",
   "execution_count": 64,
   "metadata": {},
   "outputs": [],
   "source": [
    "def zero(*args, **kwargs):\n",
    "    return 0\n",
    "def epsilonized(inname, outname):\n",
    "\n",
    "    def find_arg_with_name(name, arglist, func_args=[], func_kwargs={}):\n",
    "        value = fkwargs.get(name)\n",
    "        if value is None:\n",
    "            return func_args[arglist.index(name)]\n",
    "        return value\n",
    "\n",
    "    def decorator_eps(func):\n",
    "        def epsilonized_func(*args, **kwargs):\n",
    "            j = find_arg_with_name(\n",
    "                inname, inspect.getfullargspec(func),\n",
    "                func_args=args, func_kwargs=kwargs\n",
    "            )\n",
    "            if j in A:\n",
    "                value = 0\n",
    "            else:\n",
    "                value = func(*args, **kwargs)\n",
    "            return value\n",
    "        return epsilonized_func\n",
    "    return decorator_eps"
   ]
  },
  {
   "cell_type": "markdown",
   "metadata": {},
   "source": [
    "Quadrature integration from $\\texttt{scipy.integrate}$"
   ]
  },
  {
   "cell_type": "code",
   "execution_count": 134,
   "metadata": {},
   "outputs": [
    {
     "data": {
      "text/plain": [
       "(1.5, 1.6653345369377348e-14)"
      ]
     },
     "execution_count": 134,
     "metadata": {},
     "output_type": "execute_result"
    }
   ],
   "source": [
    "def foo(x, a, b=0):\n",
    "    return a * x + b\n",
    "\n",
    "intg.quad(foo, 0, 1, args=(1, 1)) # args are processed in order; even kwargs"
   ]
  },
  {
   "cell_type": "code",
   "execution_count": 332,
   "metadata": {},
   "outputs": [
    {
     "name": "stdout",
     "output_type": "stream",
     "text": [
      "dict_items([(1, 2), (3, 4)])\n"
     ]
    }
   ],
   "source": [
    "d = {1: 2, 3: 4}\n",
    "tuples = d.items()\n",
    "print(tuples)"
   ]
  },
  {
   "cell_type": "code",
   "execution_count": 330,
   "metadata": {},
   "outputs": [
    {
     "data": {
      "text/plain": [
       "dict_items([(1, 2)])"
      ]
     },
     "execution_count": 330,
     "metadata": {},
     "output_type": "execute_result"
    }
   ],
   "source": [
    "kw = {1: 2}\n",
    "kw.items()"
   ]
  },
  {
   "cell_type": "code",
   "execution_count": null,
   "metadata": {},
   "outputs": [],
   "source": []
  },
  {
   "cell_type": "code",
   "execution_count": null,
   "metadata": {},
   "outputs": [],
   "source": []
  }
 ],
 "metadata": {
  "kernelspec": {
   "display_name": "Python 3",
   "language": "python",
   "name": "python3"
  },
  "language_info": {
   "codemirror_mode": {
    "name": "ipython",
    "version": 3
   },
   "file_extension": ".py",
   "mimetype": "text/x-python",
   "name": "python",
   "nbconvert_exporter": "python",
   "pygments_lexer": "ipython3",
   "version": "3.7.4"
  }
 },
 "nbformat": 4,
 "nbformat_minor": 2
}
